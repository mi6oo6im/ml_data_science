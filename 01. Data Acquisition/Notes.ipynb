{
 "cells": [
  {
   "cell_type": "code",
   "execution_count": 2,
   "metadata": {},
   "outputs": [],
   "source": [
    "# my imports\n",
    "import sqlalchemy\n",
    "import pandas as pd\n",
    "import numpy as np\n",
    "import matplotlib.pyplot as plt\n",
    "import xlrd\n",
    "import openpyxl\n",
    "import requests\n",
    "from bs4 import BeautifulSoup\n",
    "from sqlalchemy import create_engine\n",
    "import urllib.parse\n",
    "import psycopg2"
   ]
  },
  {
   "cell_type": "markdown",
   "metadata": {},
   "source": [
    "### Data Science basics \n",
    "#### Data Acquisition"
   ]
  },
  {
   "cell_type": "markdown",
   "metadata": {},
   "source": [
    "Two important things in DS:\n",
    "1. What do we want to do? - main topic of the course \n",
    "2. How to do it? "
   ]
  },
  {
   "cell_type": "markdown",
   "metadata": {},
   "source": [
    "Ask the right questions. Obtain and clean up data. Explore and analyze data. Make the correct conclusions. "
   ]
  },
  {
   "cell_type": "markdown",
   "metadata": {},
   "source": [
    "Scientific method. Research. Who worked on that topic?\n",
    "Learn how to create a complete solution. \n",
    "How to communicate its results. \n",
    "Learn best practices. "
   ]
  },
  {
   "cell_type": "markdown",
   "metadata": {},
   "source": [
    "Algebra, statistics and a little Calculus."
   ]
  },
  {
   "cell_type": "markdown",
   "metadata": {},
   "source": [
    "Scientific mindset. "
   ]
  },
  {
   "cell_type": "markdown",
   "metadata": {},
   "source": [
    "EDA - exploratory data analysis "
   ]
  },
  {
   "cell_type": "markdown",
   "metadata": {},
   "source": [
    "Reproducible research \n",
    "Data pipelines\n",
    "\"big\" data "
   ]
  },
  {
   "cell_type": "markdown",
   "metadata": {},
   "source": [
    "### Important dates:\n",
    "25 June - 20 August lectures and project \n",
    "24-25 August regular exam "
   ]
  },
  {
   "cell_type": "markdown",
   "metadata": {},
   "source": [
    "Homework and exam deadline 22 August"
   ]
  },
  {
   "cell_type": "markdown",
   "metadata": {},
   "source": [
    "Homework = Quiz + lab"
   ]
  },
  {
   "cell_type": "markdown",
   "metadata": {},
   "source": [
    "Books:\n",
    "How not to be wrong- Jordan Ellenberg <br>\n",
    "Python Data Science handbook - Jake VanderPlas <br>\n",
    "https://jakevdp.github.io/PythonDataScienceHandbook/ <br>\n",
    "Python for Data Analysis- Wes McKinney <br>\n",
    "https://wesmckinney.com/book/ <br>"
   ]
  },
  {
   "cell_type": "markdown",
   "metadata": {},
   "source": [
    "Choose your own adventure. \n"
   ]
  },
  {
   "cell_type": "markdown",
   "metadata": {},
   "source": [
    "### Data Acquisition"
   ]
  },
  {
   "cell_type": "markdown",
   "metadata": {},
   "source": [
    "1. The scientific method \n",
    "2. Setting up the environment (done)\n",
    "3. Reading data from different sources:<br> a. Text files;<br> b. Excel;<br> c. Web sources;<br> d. SQL databases \n",
    "4. Data Consolidation Principles "
   ]
  },
  {
   "cell_type": "markdown",
   "metadata": {},
   "source": [
    "#### The scientific method\n",
    "Ask a question => do research => form Hypothesis => test hp => align / not align with hp => communicate results and next steps (go back to research, form new hp or new tests)."
   ]
  },
  {
   "cell_type": "markdown",
   "metadata": {},
   "source": [
    "#### Reading data from different sources: \n",
    "a. Text files; <br>\n",
    "b. Excel; <br>\n",
    "c. Web sources; <br>\n",
    "d. SQL databases. <br>"
   ]
  },
  {
   "cell_type": "code",
   "execution_count": 3,
   "metadata": {},
   "outputs": [
    {
     "data": {
      "text/html": [
       "<div>\n",
       "<style scoped>\n",
       "    .dataframe tbody tr th:only-of-type {\n",
       "        vertical-align: middle;\n",
       "    }\n",
       "\n",
       "    .dataframe tbody tr th {\n",
       "        vertical-align: top;\n",
       "    }\n",
       "\n",
       "    .dataframe thead th {\n",
       "        text-align: right;\n",
       "    }\n",
       "</style>\n",
       "<table border=\"1\" class=\"dataframe\">\n",
       "  <thead>\n",
       "    <tr style=\"text-align: right;\">\n",
       "      <th></th>\n",
       "      <th>name</th>\n",
       "      <th>sirname</th>\n",
       "      <th>age</th>\n",
       "    </tr>\n",
       "  </thead>\n",
       "  <tbody>\n",
       "    <tr>\n",
       "      <th>0</th>\n",
       "      <td>Ivan</td>\n",
       "      <td>Petrov</td>\n",
       "      <td>22</td>\n",
       "    </tr>\n",
       "    <tr>\n",
       "      <th>1</th>\n",
       "      <td>Georgi</td>\n",
       "      <td>Ivanov</td>\n",
       "      <td>24</td>\n",
       "    </tr>\n",
       "  </tbody>\n",
       "</table>\n",
       "</div>"
      ],
      "text/plain": [
       "     name sirname  age\n",
       "0    Ivan  Petrov   22\n",
       "1  Georgi  Ivanov   24"
      ]
     },
     "execution_count": 3,
     "metadata": {},
     "output_type": "execute_result"
    }
   ],
   "source": [
    "pd.DataFrame({\"name\":[\"Ivan\", \"Georgi\"], \"sirname\":[\"Petrov\",\"Ivanov\"], \"age\":[22, 24]})"
   ]
  },
  {
   "cell_type": "code",
   "execution_count": 4,
   "metadata": {},
   "outputs": [],
   "source": [
    "accidents = pd.read_csv(\"data/accidents.csv\")"
   ]
  },
  {
   "cell_type": "code",
   "execution_count": 5,
   "metadata": {},
   "outputs": [
    {
     "data": {
      "text/html": [
       "<div>\n",
       "<style scoped>\n",
       "    .dataframe tbody tr th:only-of-type {\n",
       "        vertical-align: middle;\n",
       "    }\n",
       "\n",
       "    .dataframe tbody tr th {\n",
       "        vertical-align: top;\n",
       "    }\n",
       "\n",
       "    .dataframe thead th {\n",
       "        text-align: right;\n",
       "    }\n",
       "</style>\n",
       "<table border=\"1\" class=\"dataframe\">\n",
       "  <thead>\n",
       "    <tr style=\"text-align: right;\">\n",
       "      <th></th>\n",
       "      <th>Miles from Home</th>\n",
       "      <th>% of Accidents</th>\n",
       "    </tr>\n",
       "  </thead>\n",
       "  <tbody>\n",
       "    <tr>\n",
       "      <th>0</th>\n",
       "      <td>less than 1</td>\n",
       "      <td>23</td>\n",
       "    </tr>\n",
       "    <tr>\n",
       "      <th>1</th>\n",
       "      <td>1 to 5</td>\n",
       "      <td>29</td>\n",
       "    </tr>\n",
       "    <tr>\n",
       "      <th>2</th>\n",
       "      <td>6 to 10</td>\n",
       "      <td>17</td>\n",
       "    </tr>\n",
       "    <tr>\n",
       "      <th>3</th>\n",
       "      <td>11 to 15</td>\n",
       "      <td>8</td>\n",
       "    </tr>\n",
       "    <tr>\n",
       "      <th>4</th>\n",
       "      <td>16 to 20</td>\n",
       "      <td>6</td>\n",
       "    </tr>\n",
       "    <tr>\n",
       "      <th>5</th>\n",
       "      <td>over 20</td>\n",
       "      <td>17</td>\n",
       "    </tr>\n",
       "  </tbody>\n",
       "</table>\n",
       "</div>"
      ],
      "text/plain": [
       "  Miles from Home  % of Accidents\n",
       "0     less than 1              23\n",
       "1          1 to 5              29\n",
       "2         6 to 10              17\n",
       "3        11 to 15               8\n",
       "4        16 to 20               6\n",
       "5         over 20              17"
      ]
     },
     "execution_count": 5,
     "metadata": {},
     "output_type": "execute_result"
    }
   ],
   "source": [
    "accidents"
   ]
  },
  {
   "cell_type": "code",
   "execution_count": 6,
   "metadata": {},
   "outputs": [
    {
     "data": {
      "text/plain": [
       "RangeIndex(start=0, stop=6, step=1)"
      ]
     },
     "execution_count": 6,
     "metadata": {},
     "output_type": "execute_result"
    }
   ],
   "source": [
    "accidents.index"
   ]
  },
  {
   "cell_type": "code",
   "execution_count": 7,
   "metadata": {},
   "outputs": [
    {
     "data": {
      "text/plain": [
       "Index(['Miles from Home', '% of Accidents'], dtype='object')"
      ]
     },
     "execution_count": 7,
     "metadata": {},
     "output_type": "execute_result"
    }
   ],
   "source": [
    "accidents.columns"
   ]
  },
  {
   "cell_type": "code",
   "execution_count": 8,
   "metadata": {},
   "outputs": [
    {
     "data": {
      "text/plain": [
       "0    less than 1\n",
       "1         1 to 5\n",
       "2        6 to 10\n",
       "3       11 to 15\n",
       "4       16 to 20\n",
       "5        over 20\n",
       "Name: Miles from Home, dtype: object"
      ]
     },
     "execution_count": 8,
     "metadata": {},
     "output_type": "execute_result"
    }
   ],
   "source": [
    "accidents['Miles from Home']"
   ]
  },
  {
   "cell_type": "code",
   "execution_count": 9,
   "metadata": {},
   "outputs": [
    {
     "data": {
      "text/plain": [
       "pandas.core.series.Series"
      ]
     },
     "execution_count": 9,
     "metadata": {},
     "output_type": "execute_result"
    }
   ],
   "source": [
    "type(accidents['Miles from Home'])"
   ]
  },
  {
   "cell_type": "code",
   "execution_count": 10,
   "metadata": {},
   "outputs": [
    {
     "data": {
      "text/plain": [
       "pandas.core.frame.DataFrame"
      ]
     },
     "execution_count": 10,
     "metadata": {},
     "output_type": "execute_result"
    }
   ],
   "source": [
    "type(accidents[['Miles from Home']])\n"
   ]
  },
  {
   "cell_type": "code",
   "execution_count": 11,
   "metadata": {},
   "outputs": [],
   "source": [
    "accidents.columns = ['miles_from_home', 'pct_of_accidents']"
   ]
  },
  {
   "cell_type": "code",
   "execution_count": 12,
   "metadata": {},
   "outputs": [
    {
     "data": {
      "text/html": [
       "<div>\n",
       "<style scoped>\n",
       "    .dataframe tbody tr th:only-of-type {\n",
       "        vertical-align: middle;\n",
       "    }\n",
       "\n",
       "    .dataframe tbody tr th {\n",
       "        vertical-align: top;\n",
       "    }\n",
       "\n",
       "    .dataframe thead th {\n",
       "        text-align: right;\n",
       "    }\n",
       "</style>\n",
       "<table border=\"1\" class=\"dataframe\">\n",
       "  <thead>\n",
       "    <tr style=\"text-align: right;\">\n",
       "      <th></th>\n",
       "      <th>miles_from_home</th>\n",
       "      <th>pct_of_accidents</th>\n",
       "    </tr>\n",
       "  </thead>\n",
       "  <tbody>\n",
       "    <tr>\n",
       "      <th>0</th>\n",
       "      <td>less than 1</td>\n",
       "      <td>23</td>\n",
       "    </tr>\n",
       "    <tr>\n",
       "      <th>1</th>\n",
       "      <td>1 to 5</td>\n",
       "      <td>29</td>\n",
       "    </tr>\n",
       "    <tr>\n",
       "      <th>2</th>\n",
       "      <td>6 to 10</td>\n",
       "      <td>17</td>\n",
       "    </tr>\n",
       "    <tr>\n",
       "      <th>3</th>\n",
       "      <td>11 to 15</td>\n",
       "      <td>8</td>\n",
       "    </tr>\n",
       "    <tr>\n",
       "      <th>4</th>\n",
       "      <td>16 to 20</td>\n",
       "      <td>6</td>\n",
       "    </tr>\n",
       "    <tr>\n",
       "      <th>5</th>\n",
       "      <td>over 20</td>\n",
       "      <td>17</td>\n",
       "    </tr>\n",
       "  </tbody>\n",
       "</table>\n",
       "</div>"
      ],
      "text/plain": [
       "  miles_from_home  pct_of_accidents\n",
       "0     less than 1                23\n",
       "1          1 to 5                29\n",
       "2         6 to 10                17\n",
       "3        11 to 15                 8\n",
       "4        16 to 20                 6\n",
       "5         over 20                17"
      ]
     },
     "execution_count": 12,
     "metadata": {},
     "output_type": "execute_result"
    }
   ],
   "source": [
    "accidents"
   ]
  },
  {
   "cell_type": "code",
   "execution_count": 13,
   "metadata": {},
   "outputs": [
    {
     "data": {
      "text/plain": [
       "0    less than 1\n",
       "1         1 to 5\n",
       "2        6 to 10\n",
       "3       11 to 15\n",
       "4       16 to 20\n",
       "5        over 20\n",
       "Name: miles_from_home, dtype: object"
      ]
     },
     "execution_count": 13,
     "metadata": {},
     "output_type": "execute_result"
    }
   ],
   "source": [
    "accidents.miles_from_home"
   ]
  },
  {
   "cell_type": "code",
   "execution_count": 14,
   "metadata": {},
   "outputs": [
    {
     "data": {
      "text/plain": [
       "(6, 2)"
      ]
     },
     "execution_count": 14,
     "metadata": {},
     "output_type": "execute_result"
    }
   ],
   "source": [
    "accidents.shape"
   ]
  },
  {
   "cell_type": "code",
   "execution_count": 15,
   "metadata": {},
   "outputs": [
    {
     "data": {
      "text/plain": [
       "miles_from_home     object\n",
       "pct_of_accidents     int64\n",
       "dtype: object"
      ]
     },
     "execution_count": 15,
     "metadata": {},
     "output_type": "execute_result"
    }
   ],
   "source": [
    "accidents.dtypes"
   ]
  },
  {
   "cell_type": "code",
   "execution_count": 16,
   "metadata": {},
   "outputs": [
    {
     "data": {
      "text/html": [
       "<div>\n",
       "<style scoped>\n",
       "    .dataframe tbody tr th:only-of-type {\n",
       "        vertical-align: middle;\n",
       "    }\n",
       "\n",
       "    .dataframe tbody tr th {\n",
       "        vertical-align: top;\n",
       "    }\n",
       "\n",
       "    .dataframe thead th {\n",
       "        text-align: right;\n",
       "    }\n",
       "</style>\n",
       "<table border=\"1\" class=\"dataframe\">\n",
       "  <thead>\n",
       "    <tr style=\"text-align: right;\">\n",
       "      <th></th>\n",
       "      <th>count</th>\n",
       "      <th>mean</th>\n",
       "      <th>std</th>\n",
       "      <th>min</th>\n",
       "      <th>25%</th>\n",
       "      <th>50%</th>\n",
       "      <th>75%</th>\n",
       "      <th>max</th>\n",
       "    </tr>\n",
       "  </thead>\n",
       "  <tbody>\n",
       "    <tr>\n",
       "      <th>pct_of_accidents</th>\n",
       "      <td>6.0</td>\n",
       "      <td>16.666667</td>\n",
       "      <td>8.733079</td>\n",
       "      <td>6.0</td>\n",
       "      <td>10.25</td>\n",
       "      <td>17.0</td>\n",
       "      <td>21.5</td>\n",
       "      <td>29.0</td>\n",
       "    </tr>\n",
       "  </tbody>\n",
       "</table>\n",
       "</div>"
      ],
      "text/plain": [
       "                  count       mean       std  min    25%   50%   75%   max\n",
       "pct_of_accidents    6.0  16.666667  8.733079  6.0  10.25  17.0  21.5  29.0"
      ]
     },
     "execution_count": 16,
     "metadata": {},
     "output_type": "execute_result"
    }
   ],
   "source": [
    "accidents.describe().T"
   ]
  },
  {
   "cell_type": "code",
   "execution_count": 31,
   "metadata": {},
   "outputs": [],
   "source": [
    "accidents_with_new_index = accidents.reset_index()"
   ]
  },
  {
   "cell_type": "code",
   "execution_count": 32,
   "metadata": {},
   "outputs": [
    {
     "data": {
      "text/html": [
       "<div>\n",
       "<style scoped>\n",
       "    .dataframe tbody tr th:only-of-type {\n",
       "        vertical-align: middle;\n",
       "    }\n",
       "\n",
       "    .dataframe tbody tr th {\n",
       "        vertical-align: top;\n",
       "    }\n",
       "\n",
       "    .dataframe thead th {\n",
       "        text-align: right;\n",
       "    }\n",
       "</style>\n",
       "<table border=\"1\" class=\"dataframe\">\n",
       "  <thead>\n",
       "    <tr style=\"text-align: right;\">\n",
       "      <th></th>\n",
       "      <th>miles_from_home</th>\n",
       "      <th>pct_of_accidents</th>\n",
       "    </tr>\n",
       "  </thead>\n",
       "  <tbody>\n",
       "    <tr>\n",
       "      <th>0</th>\n",
       "      <td>less than 1</td>\n",
       "      <td>23</td>\n",
       "    </tr>\n",
       "    <tr>\n",
       "      <th>1</th>\n",
       "      <td>1 to 5</td>\n",
       "      <td>29</td>\n",
       "    </tr>\n",
       "    <tr>\n",
       "      <th>2</th>\n",
       "      <td>6 to 10</td>\n",
       "      <td>17</td>\n",
       "    </tr>\n",
       "    <tr>\n",
       "      <th>3</th>\n",
       "      <td>11 to 15</td>\n",
       "      <td>8</td>\n",
       "    </tr>\n",
       "    <tr>\n",
       "      <th>4</th>\n",
       "      <td>16 to 20</td>\n",
       "      <td>6</td>\n",
       "    </tr>\n",
       "    <tr>\n",
       "      <th>5</th>\n",
       "      <td>over 20</td>\n",
       "      <td>17</td>\n",
       "    </tr>\n",
       "  </tbody>\n",
       "</table>\n",
       "</div>"
      ],
      "text/plain": [
       "  miles_from_home  pct_of_accidents\n",
       "0     less than 1                23\n",
       "1          1 to 5                29\n",
       "2         6 to 10                17\n",
       "3        11 to 15                 8\n",
       "4        16 to 20                 6\n",
       "5         over 20                17"
      ]
     },
     "execution_count": 32,
     "metadata": {},
     "output_type": "execute_result"
    }
   ],
   "source": [
    "accidents"
   ]
  },
  {
   "cell_type": "code",
   "execution_count": 33,
   "metadata": {},
   "outputs": [
    {
     "data": {
      "text/html": [
       "<div>\n",
       "<style scoped>\n",
       "    .dataframe tbody tr th:only-of-type {\n",
       "        vertical-align: middle;\n",
       "    }\n",
       "\n",
       "    .dataframe tbody tr th {\n",
       "        vertical-align: top;\n",
       "    }\n",
       "\n",
       "    .dataframe thead th {\n",
       "        text-align: right;\n",
       "    }\n",
       "</style>\n",
       "<table border=\"1\" class=\"dataframe\">\n",
       "  <thead>\n",
       "    <tr style=\"text-align: right;\">\n",
       "      <th></th>\n",
       "      <th>index</th>\n",
       "      <th>miles_from_home</th>\n",
       "      <th>pct_of_accidents</th>\n",
       "    </tr>\n",
       "  </thead>\n",
       "  <tbody>\n",
       "    <tr>\n",
       "      <th>0</th>\n",
       "      <td>0</td>\n",
       "      <td>less than 1</td>\n",
       "      <td>23</td>\n",
       "    </tr>\n",
       "    <tr>\n",
       "      <th>1</th>\n",
       "      <td>1</td>\n",
       "      <td>1 to 5</td>\n",
       "      <td>29</td>\n",
       "    </tr>\n",
       "    <tr>\n",
       "      <th>2</th>\n",
       "      <td>2</td>\n",
       "      <td>6 to 10</td>\n",
       "      <td>17</td>\n",
       "    </tr>\n",
       "    <tr>\n",
       "      <th>3</th>\n",
       "      <td>3</td>\n",
       "      <td>11 to 15</td>\n",
       "      <td>8</td>\n",
       "    </tr>\n",
       "    <tr>\n",
       "      <th>4</th>\n",
       "      <td>4</td>\n",
       "      <td>16 to 20</td>\n",
       "      <td>6</td>\n",
       "    </tr>\n",
       "    <tr>\n",
       "      <th>5</th>\n",
       "      <td>5</td>\n",
       "      <td>over 20</td>\n",
       "      <td>17</td>\n",
       "    </tr>\n",
       "  </tbody>\n",
       "</table>\n",
       "</div>"
      ],
      "text/plain": [
       "   index miles_from_home  pct_of_accidents\n",
       "0      0     less than 1                23\n",
       "1      1          1 to 5                29\n",
       "2      2         6 to 10                17\n",
       "3      3        11 to 15                 8\n",
       "4      4        16 to 20                 6\n",
       "5      5         over 20                17"
      ]
     },
     "execution_count": 33,
     "metadata": {},
     "output_type": "execute_result"
    }
   ],
   "source": [
    "accidents_with_new_index"
   ]
  },
  {
   "cell_type": "markdown",
   "metadata": {},
   "source": [
    "#### Pandas - Python for Analytics and Data Science \n",
    "```python\n",
    "import pandas as pd\n",
    "```"
   ]
  },
  {
   "cell_type": "markdown",
   "metadata": {},
   "source": [
    "#### Structured and unstructured data\n",
    "Str: organized in columns\n",
    "Unstr: some structure, not very clear "
   ]
  },
  {
   "cell_type": "markdown",
   "metadata": {},
   "source": [
    "```python\n",
    "pd.read_table()\n",
    "```"
   ]
  },
  {
   "cell_type": "markdown",
   "metadata": {},
   "source": [
    "Data frame / series "
   ]
  },
  {
   "cell_type": "markdown",
   "metadata": {},
   "source": [
    "astype() method"
   ]
  },
  {
   "cell_type": "markdown",
   "metadata": {},
   "source": [
    "Pandas: Zip support if 1 file in archive "
   ]
  },
  {
   "cell_type": "markdown",
   "metadata": {},
   "source": [
    "For reading Excel:\n",
    "```python\n",
    "pd.read_excel()\n",
    "```\n"
   ]
  },
  {
   "cell_type": "code",
   "execution_count": 18,
   "metadata": {},
   "outputs": [
    {
     "data": {
      "text/html": [
       "<div>\n",
       "<style scoped>\n",
       "    .dataframe tbody tr th:only-of-type {\n",
       "        vertical-align: middle;\n",
       "    }\n",
       "\n",
       "    .dataframe tbody tr th {\n",
       "        vertical-align: top;\n",
       "    }\n",
       "\n",
       "    .dataframe thead th {\n",
       "        text-align: right;\n",
       "    }\n",
       "</style>\n",
       "<table border=\"1\" class=\"dataframe\">\n",
       "  <thead>\n",
       "    <tr style=\"text-align: right;\">\n",
       "      <th></th>\n",
       "      <th>Date</th>\n",
       "      <th>City</th>\n",
       "      <th>Sales</th>\n",
       "    </tr>\n",
       "  </thead>\n",
       "  <tbody>\n",
       "    <tr>\n",
       "      <th>0</th>\n",
       "      <td>2024-06-30</td>\n",
       "      <td>Sofia</td>\n",
       "      <td>2590</td>\n",
       "    </tr>\n",
       "    <tr>\n",
       "      <th>1</th>\n",
       "      <td>2024-07-01</td>\n",
       "      <td>Plovdiv</td>\n",
       "      <td>7731</td>\n",
       "    </tr>\n",
       "    <tr>\n",
       "      <th>2</th>\n",
       "      <td>2024-07-02</td>\n",
       "      <td>Pernik</td>\n",
       "      <td>4337</td>\n",
       "    </tr>\n",
       "    <tr>\n",
       "      <th>3</th>\n",
       "      <td>2024-07-03</td>\n",
       "      <td>Plovdiv</td>\n",
       "      <td>9682</td>\n",
       "    </tr>\n",
       "    <tr>\n",
       "      <th>4</th>\n",
       "      <td>2024-07-04</td>\n",
       "      <td>Sofia</td>\n",
       "      <td>2871</td>\n",
       "    </tr>\n",
       "    <tr>\n",
       "      <th>5</th>\n",
       "      <td>2024-07-05</td>\n",
       "      <td>Plovdiv</td>\n",
       "      <td>7496</td>\n",
       "    </tr>\n",
       "    <tr>\n",
       "      <th>6</th>\n",
       "      <td>2024-07-06</td>\n",
       "      <td>Pernik</td>\n",
       "      <td>508</td>\n",
       "    </tr>\n",
       "    <tr>\n",
       "      <th>7</th>\n",
       "      <td>2024-07-07</td>\n",
       "      <td>Plovdiv</td>\n",
       "      <td>6186</td>\n",
       "    </tr>\n",
       "    <tr>\n",
       "      <th>8</th>\n",
       "      <td>2024-07-08</td>\n",
       "      <td>Sofia</td>\n",
       "      <td>1027</td>\n",
       "    </tr>\n",
       "    <tr>\n",
       "      <th>9</th>\n",
       "      <td>2024-07-09</td>\n",
       "      <td>Plovdiv</td>\n",
       "      <td>5811</td>\n",
       "    </tr>\n",
       "    <tr>\n",
       "      <th>10</th>\n",
       "      <td>2024-07-10</td>\n",
       "      <td>Pernik</td>\n",
       "      <td>1576</td>\n",
       "    </tr>\n",
       "  </tbody>\n",
       "</table>\n",
       "</div>"
      ],
      "text/plain": [
       "         Date     City  Sales\n",
       "0  2024-06-30    Sofia   2590\n",
       "1  2024-07-01  Plovdiv   7731\n",
       "2  2024-07-02   Pernik   4337\n",
       "3  2024-07-03  Plovdiv   9682\n",
       "4  2024-07-04    Sofia   2871\n",
       "5  2024-07-05  Plovdiv   7496\n",
       "6  2024-07-06   Pernik    508\n",
       "7  2024-07-07  Plovdiv   6186\n",
       "8  2024-07-08    Sofia   1027\n",
       "9  2024-07-09  Plovdiv   5811\n",
       "10 2024-07-10   Pernik   1576"
      ]
     },
     "execution_count": 18,
     "metadata": {},
     "output_type": "execute_result"
    }
   ],
   "source": [
    "pd.read_excel('data/xls_sales_data.xls')"
   ]
  },
  {
   "cell_type": "code",
   "execution_count": 19,
   "metadata": {},
   "outputs": [
    {
     "data": {
      "text/html": [
       "<div>\n",
       "<style scoped>\n",
       "    .dataframe tbody tr th:only-of-type {\n",
       "        vertical-align: middle;\n",
       "    }\n",
       "\n",
       "    .dataframe tbody tr th {\n",
       "        vertical-align: top;\n",
       "    }\n",
       "\n",
       "    .dataframe thead th {\n",
       "        text-align: right;\n",
       "    }\n",
       "</style>\n",
       "<table border=\"1\" class=\"dataframe\">\n",
       "  <thead>\n",
       "    <tr style=\"text-align: right;\">\n",
       "      <th></th>\n",
       "      <th>Date</th>\n",
       "      <th>City</th>\n",
       "      <th>Sales</th>\n",
       "    </tr>\n",
       "  </thead>\n",
       "  <tbody>\n",
       "    <tr>\n",
       "      <th>0</th>\n",
       "      <td>2024-06-30</td>\n",
       "      <td>Sofia</td>\n",
       "      <td>2590</td>\n",
       "    </tr>\n",
       "    <tr>\n",
       "      <th>1</th>\n",
       "      <td>2024-07-01</td>\n",
       "      <td>Plovdiv</td>\n",
       "      <td>7731</td>\n",
       "    </tr>\n",
       "    <tr>\n",
       "      <th>2</th>\n",
       "      <td>2024-07-02</td>\n",
       "      <td>Pernik</td>\n",
       "      <td>4337</td>\n",
       "    </tr>\n",
       "    <tr>\n",
       "      <th>3</th>\n",
       "      <td>2024-07-03</td>\n",
       "      <td>Plovdiv</td>\n",
       "      <td>9682</td>\n",
       "    </tr>\n",
       "    <tr>\n",
       "      <th>4</th>\n",
       "      <td>2024-07-04</td>\n",
       "      <td>Sofia</td>\n",
       "      <td>2871</td>\n",
       "    </tr>\n",
       "    <tr>\n",
       "      <th>5</th>\n",
       "      <td>2024-07-05</td>\n",
       "      <td>Plovdiv</td>\n",
       "      <td>7496</td>\n",
       "    </tr>\n",
       "    <tr>\n",
       "      <th>6</th>\n",
       "      <td>2024-07-06</td>\n",
       "      <td>Pernik</td>\n",
       "      <td>508</td>\n",
       "    </tr>\n",
       "    <tr>\n",
       "      <th>7</th>\n",
       "      <td>2024-07-07</td>\n",
       "      <td>Plovdiv</td>\n",
       "      <td>6186</td>\n",
       "    </tr>\n",
       "    <tr>\n",
       "      <th>8</th>\n",
       "      <td>2024-07-08</td>\n",
       "      <td>Sofia</td>\n",
       "      <td>1027</td>\n",
       "    </tr>\n",
       "    <tr>\n",
       "      <th>9</th>\n",
       "      <td>2024-07-09</td>\n",
       "      <td>Plovdiv</td>\n",
       "      <td>5811</td>\n",
       "    </tr>\n",
       "    <tr>\n",
       "      <th>10</th>\n",
       "      <td>2024-07-10</td>\n",
       "      <td>Pernik</td>\n",
       "      <td>1576</td>\n",
       "    </tr>\n",
       "  </tbody>\n",
       "</table>\n",
       "</div>"
      ],
      "text/plain": [
       "         Date     City  Sales\n",
       "0  2024-06-30    Sofia   2590\n",
       "1  2024-07-01  Plovdiv   7731\n",
       "2  2024-07-02   Pernik   4337\n",
       "3  2024-07-03  Plovdiv   9682\n",
       "4  2024-07-04    Sofia   2871\n",
       "5  2024-07-05  Plovdiv   7496\n",
       "6  2024-07-06   Pernik    508\n",
       "7  2024-07-07  Plovdiv   6186\n",
       "8  2024-07-08    Sofia   1027\n",
       "9  2024-07-09  Plovdiv   5811\n",
       "10 2024-07-10   Pernik   1576"
      ]
     },
     "execution_count": 19,
     "metadata": {},
     "output_type": "execute_result"
    }
   ],
   "source": [
    "pd.read_excel('data/xlsx_sales_data.xlsx')"
   ]
  },
  {
   "cell_type": "code",
   "execution_count": 35,
   "metadata": {},
   "outputs": [],
   "source": [
    "green_trip_data = pd.read_excel('data/green_tripdata_2015-09.xls')\n"
   ]
  },
  {
   "cell_type": "code",
   "execution_count": 36,
   "metadata": {},
   "outputs": [
    {
     "data": {
      "text/plain": [
       "(65535, 21)"
      ]
     },
     "execution_count": 36,
     "metadata": {},
     "output_type": "execute_result"
    }
   ],
   "source": [
    "green_trip_data.shape"
   ]
  },
  {
   "cell_type": "code",
   "execution_count": 37,
   "metadata": {},
   "outputs": [
    {
     "data": {
      "text/plain": [
       "VendorID                          int64\n",
       "lpep_pickup_datetime     datetime64[ns]\n",
       "Lpep_dropoff_datetime    datetime64[ns]\n",
       "Store_and_fwd_flag               object\n",
       "RateCodeID                        int64\n",
       "Pickup_longitude                float64\n",
       "Pickup_latitude                 float64\n",
       "Dropoff_longitude               float64\n",
       "Dropoff_latitude                float64\n",
       "Passenger_count                   int64\n",
       "Trip_distance                   float64\n",
       "Fare_amount                     float64\n",
       "Extra                           float64\n",
       "MTA_tax                         float64\n",
       "Tip_amount                      float64\n",
       "Tolls_amount                    float64\n",
       "Ehail_fee                       float64\n",
       "improvement_surcharge           float64\n",
       "Total_amount                    float64\n",
       "Payment_type                      int64\n",
       "Trip_type                         int64\n",
       "dtype: object"
      ]
     },
     "execution_count": 37,
     "metadata": {},
     "output_type": "execute_result"
    }
   ],
   "source": [
    "green_trip_data.dtypes"
   ]
  },
  {
   "cell_type": "code",
   "execution_count": 39,
   "metadata": {},
   "outputs": [
    {
     "data": {
      "text/plain": [
       "Index(['VendorID', 'lpep_pickup_datetime', 'Lpep_dropoff_datetime',\n",
       "       'Store_and_fwd_flag', 'RateCodeID', 'Pickup_longitude',\n",
       "       'Pickup_latitude', 'Dropoff_longitude', 'Dropoff_latitude',\n",
       "       'Passenger_count', 'Trip_distance', 'Fare_amount', 'Extra', 'MTA_tax',\n",
       "       'Tip_amount', 'Tolls_amount', 'Ehail_fee', 'improvement_surcharge',\n",
       "       'Total_amount', 'Payment_type', 'Trip_type '],\n",
       "      dtype='object')"
      ]
     },
     "execution_count": 39,
     "metadata": {},
     "output_type": "execute_result"
    }
   ],
   "source": [
    "green_trip_data.columns"
   ]
  },
  {
   "cell_type": "code",
   "execution_count": 38,
   "metadata": {},
   "outputs": [
    {
     "data": {
      "text/html": [
       "<div>\n",
       "<style scoped>\n",
       "    .dataframe tbody tr th:only-of-type {\n",
       "        vertical-align: middle;\n",
       "    }\n",
       "\n",
       "    .dataframe tbody tr th {\n",
       "        vertical-align: top;\n",
       "    }\n",
       "\n",
       "    .dataframe thead th {\n",
       "        text-align: right;\n",
       "    }\n",
       "</style>\n",
       "<table border=\"1\" class=\"dataframe\">\n",
       "  <thead>\n",
       "    <tr style=\"text-align: right;\">\n",
       "      <th></th>\n",
       "      <th>count</th>\n",
       "      <th>mean</th>\n",
       "      <th>min</th>\n",
       "      <th>25%</th>\n",
       "      <th>50%</th>\n",
       "      <th>75%</th>\n",
       "      <th>max</th>\n",
       "      <th>std</th>\n",
       "    </tr>\n",
       "  </thead>\n",
       "  <tbody>\n",
       "    <tr>\n",
       "      <th>VendorID</th>\n",
       "      <td>65535.0</td>\n",
       "      <td>1.784497</td>\n",
       "      <td>1.0</td>\n",
       "      <td>2.0</td>\n",
       "      <td>2.0</td>\n",
       "      <td>2.0</td>\n",
       "      <td>2.0</td>\n",
       "      <td>0.411174</td>\n",
       "    </tr>\n",
       "    <tr>\n",
       "      <th>lpep_pickup_datetime</th>\n",
       "      <td>65535</td>\n",
       "      <td>2015-09-01 21:41:36.600595200</td>\n",
       "      <td>2015-09-01 00:00:00</td>\n",
       "      <td>2015-09-01 13:17:26</td>\n",
       "      <td>2015-09-01 20:08:37</td>\n",
       "      <td>2015-09-02 08:35:17</td>\n",
       "      <td>2015-09-02 16:59:45</td>\n",
       "      <td>NaN</td>\n",
       "    </tr>\n",
       "    <tr>\n",
       "      <th>Lpep_dropoff_datetime</th>\n",
       "      <td>65535</td>\n",
       "      <td>2015-09-01 21:56:13.970427904</td>\n",
       "      <td>2015-09-01 00:00:00</td>\n",
       "      <td>2015-09-01 13:30:47</td>\n",
       "      <td>2015-09-01 20:21:49</td>\n",
       "      <td>2015-09-02 08:51:38.500000</td>\n",
       "      <td>2015-09-03 16:09:19</td>\n",
       "      <td>NaN</td>\n",
       "    </tr>\n",
       "    <tr>\n",
       "      <th>RateCodeID</th>\n",
       "      <td>65535.0</td>\n",
       "      <td>1.12491</td>\n",
       "      <td>1.0</td>\n",
       "      <td>1.0</td>\n",
       "      <td>1.0</td>\n",
       "      <td>1.0</td>\n",
       "      <td>99.0</td>\n",
       "      <td>0.781101</td>\n",
       "    </tr>\n",
       "    <tr>\n",
       "      <th>Pickup_longitude</th>\n",
       "      <td>65535.0</td>\n",
       "      <td>-73.808157</td>\n",
       "      <td>-75.056404</td>\n",
       "      <td>-73.958015</td>\n",
       "      <td>-73.944176</td>\n",
       "      <td>-73.915222</td>\n",
       "      <td>0.0</td>\n",
       "      <td>3.04051</td>\n",
       "    </tr>\n",
       "    <tr>\n",
       "      <th>Pickup_latitude</th>\n",
       "      <td>65535.0</td>\n",
       "      <td>40.685263</td>\n",
       "      <td>0.0</td>\n",
       "      <td>40.70067</td>\n",
       "      <td>40.753559</td>\n",
       "      <td>40.804974</td>\n",
       "      <td>41.032986</td>\n",
       "      <td>1.676843</td>\n",
       "    </tr>\n",
       "    <tr>\n",
       "      <th>Dropoff_longitude</th>\n",
       "      <td>65535.0</td>\n",
       "      <td>-73.851127</td>\n",
       "      <td>-75.081306</td>\n",
       "      <td>-73.967205</td>\n",
       "      <td>-73.94474</td>\n",
       "      <td>-73.909496</td>\n",
       "      <td>0.0</td>\n",
       "      <td>2.466746</td>\n",
       "    </tr>\n",
       "    <tr>\n",
       "      <th>Dropoff_latitude</th>\n",
       "      <td>65535.0</td>\n",
       "      <td>40.706524</td>\n",
       "      <td>0.0</td>\n",
       "      <td>40.704659</td>\n",
       "      <td>40.754356</td>\n",
       "      <td>40.798569</td>\n",
       "      <td>41.227257</td>\n",
       "      <td>1.360617</td>\n",
       "    </tr>\n",
       "    <tr>\n",
       "      <th>Passenger_count</th>\n",
       "      <td>65535.0</td>\n",
       "      <td>1.349432</td>\n",
       "      <td>0.0</td>\n",
       "      <td>1.0</td>\n",
       "      <td>1.0</td>\n",
       "      <td>1.0</td>\n",
       "      <td>9.0</td>\n",
       "      <td>1.023215</td>\n",
       "    </tr>\n",
       "    <tr>\n",
       "      <th>Trip_distance</th>\n",
       "      <td>65535.0</td>\n",
       "      <td>2.901488</td>\n",
       "      <td>0.0</td>\n",
       "      <td>1.02</td>\n",
       "      <td>1.88</td>\n",
       "      <td>3.65</td>\n",
       "      <td>62.34</td>\n",
       "      <td>3.026139</td>\n",
       "    </tr>\n",
       "    <tr>\n",
       "      <th>Fare_amount</th>\n",
       "      <td>65535.0</td>\n",
       "      <td>12.40389</td>\n",
       "      <td>-400.0</td>\n",
       "      <td>6.0</td>\n",
       "      <td>9.5</td>\n",
       "      <td>15.5</td>\n",
       "      <td>400.0</td>\n",
       "      <td>10.604922</td>\n",
       "    </tr>\n",
       "    <tr>\n",
       "      <th>Extra</th>\n",
       "      <td>65535.0</td>\n",
       "      <td>0.304768</td>\n",
       "      <td>-1.0</td>\n",
       "      <td>0.0</td>\n",
       "      <td>0.0</td>\n",
       "      <td>0.5</td>\n",
       "      <td>12.0</td>\n",
       "      <td>0.388277</td>\n",
       "    </tr>\n",
       "    <tr>\n",
       "      <th>MTA_tax</th>\n",
       "      <td>65535.0</td>\n",
       "      <td>0.483268</td>\n",
       "      <td>-0.5</td>\n",
       "      <td>0.5</td>\n",
       "      <td>0.5</td>\n",
       "      <td>0.5</td>\n",
       "      <td>0.5</td>\n",
       "      <td>0.094028</td>\n",
       "    </tr>\n",
       "    <tr>\n",
       "      <th>Tip_amount</th>\n",
       "      <td>65535.0</td>\n",
       "      <td>1.160306</td>\n",
       "      <td>-2.7</td>\n",
       "      <td>0.0</td>\n",
       "      <td>0.0</td>\n",
       "      <td>1.86</td>\n",
       "      <td>100.0</td>\n",
       "      <td>2.38283</td>\n",
       "    </tr>\n",
       "    <tr>\n",
       "      <th>Tolls_amount</th>\n",
       "      <td>65535.0</td>\n",
       "      <td>0.140242</td>\n",
       "      <td>0.0</td>\n",
       "      <td>0.0</td>\n",
       "      <td>0.0</td>\n",
       "      <td>0.0</td>\n",
       "      <td>40.79</td>\n",
       "      <td>0.92179</td>\n",
       "    </tr>\n",
       "    <tr>\n",
       "      <th>Ehail_fee</th>\n",
       "      <td>0.0</td>\n",
       "      <td>NaN</td>\n",
       "      <td>NaN</td>\n",
       "      <td>NaN</td>\n",
       "      <td>NaN</td>\n",
       "      <td>NaN</td>\n",
       "      <td>NaN</td>\n",
       "      <td>NaN</td>\n",
       "    </tr>\n",
       "    <tr>\n",
       "      <th>improvement_surcharge</th>\n",
       "      <td>65535.0</td>\n",
       "      <td>0.290021</td>\n",
       "      <td>-0.3</td>\n",
       "      <td>0.3</td>\n",
       "      <td>0.3</td>\n",
       "      <td>0.3</td>\n",
       "      <td>0.3</td>\n",
       "      <td>0.056342</td>\n",
       "    </tr>\n",
       "    <tr>\n",
       "      <th>Total_amount</th>\n",
       "      <td>65535.0</td>\n",
       "      <td>14.78286</td>\n",
       "      <td>-400.0</td>\n",
       "      <td>7.8</td>\n",
       "      <td>11.3</td>\n",
       "      <td>17.8</td>\n",
       "      <td>480.0</td>\n",
       "      <td>12.096235</td>\n",
       "    </tr>\n",
       "    <tr>\n",
       "      <th>Payment_type</th>\n",
       "      <td>65535.0</td>\n",
       "      <td>1.569619</td>\n",
       "      <td>1.0</td>\n",
       "      <td>1.0</td>\n",
       "      <td>2.0</td>\n",
       "      <td>2.0</td>\n",
       "      <td>5.0</td>\n",
       "      <td>0.522893</td>\n",
       "    </tr>\n",
       "    <tr>\n",
       "      <th>Trip_type</th>\n",
       "      <td>65535.0</td>\n",
       "      <td>1.028794</td>\n",
       "      <td>1.0</td>\n",
       "      <td>1.0</td>\n",
       "      <td>1.0</td>\n",
       "      <td>1.0</td>\n",
       "      <td>2.0</td>\n",
       "      <td>0.167228</td>\n",
       "    </tr>\n",
       "  </tbody>\n",
       "</table>\n",
       "</div>"
      ],
      "text/plain": [
       "                         count                           mean  \\\n",
       "VendorID               65535.0                       1.784497   \n",
       "lpep_pickup_datetime     65535  2015-09-01 21:41:36.600595200   \n",
       "Lpep_dropoff_datetime    65535  2015-09-01 21:56:13.970427904   \n",
       "RateCodeID             65535.0                        1.12491   \n",
       "Pickup_longitude       65535.0                     -73.808157   \n",
       "Pickup_latitude        65535.0                      40.685263   \n",
       "Dropoff_longitude      65535.0                     -73.851127   \n",
       "Dropoff_latitude       65535.0                      40.706524   \n",
       "Passenger_count        65535.0                       1.349432   \n",
       "Trip_distance          65535.0                       2.901488   \n",
       "Fare_amount            65535.0                       12.40389   \n",
       "Extra                  65535.0                       0.304768   \n",
       "MTA_tax                65535.0                       0.483268   \n",
       "Tip_amount             65535.0                       1.160306   \n",
       "Tolls_amount           65535.0                       0.140242   \n",
       "Ehail_fee                  0.0                            NaN   \n",
       "improvement_surcharge  65535.0                       0.290021   \n",
       "Total_amount           65535.0                       14.78286   \n",
       "Payment_type           65535.0                       1.569619   \n",
       "Trip_type              65535.0                       1.028794   \n",
       "\n",
       "                                       min                  25%  \\\n",
       "VendorID                               1.0                  2.0   \n",
       "lpep_pickup_datetime   2015-09-01 00:00:00  2015-09-01 13:17:26   \n",
       "Lpep_dropoff_datetime  2015-09-01 00:00:00  2015-09-01 13:30:47   \n",
       "RateCodeID                             1.0                  1.0   \n",
       "Pickup_longitude                -75.056404           -73.958015   \n",
       "Pickup_latitude                        0.0             40.70067   \n",
       "Dropoff_longitude               -75.081306           -73.967205   \n",
       "Dropoff_latitude                       0.0            40.704659   \n",
       "Passenger_count                        0.0                  1.0   \n",
       "Trip_distance                          0.0                 1.02   \n",
       "Fare_amount                         -400.0                  6.0   \n",
       "Extra                                 -1.0                  0.0   \n",
       "MTA_tax                               -0.5                  0.5   \n",
       "Tip_amount                            -2.7                  0.0   \n",
       "Tolls_amount                           0.0                  0.0   \n",
       "Ehail_fee                              NaN                  NaN   \n",
       "improvement_surcharge                 -0.3                  0.3   \n",
       "Total_amount                        -400.0                  7.8   \n",
       "Payment_type                           1.0                  1.0   \n",
       "Trip_type                              1.0                  1.0   \n",
       "\n",
       "                                       50%                         75%  \\\n",
       "VendorID                               2.0                         2.0   \n",
       "lpep_pickup_datetime   2015-09-01 20:08:37         2015-09-02 08:35:17   \n",
       "Lpep_dropoff_datetime  2015-09-01 20:21:49  2015-09-02 08:51:38.500000   \n",
       "RateCodeID                             1.0                         1.0   \n",
       "Pickup_longitude                -73.944176                  -73.915222   \n",
       "Pickup_latitude                  40.753559                   40.804974   \n",
       "Dropoff_longitude                -73.94474                  -73.909496   \n",
       "Dropoff_latitude                 40.754356                   40.798569   \n",
       "Passenger_count                        1.0                         1.0   \n",
       "Trip_distance                         1.88                        3.65   \n",
       "Fare_amount                            9.5                        15.5   \n",
       "Extra                                  0.0                         0.5   \n",
       "MTA_tax                                0.5                         0.5   \n",
       "Tip_amount                             0.0                        1.86   \n",
       "Tolls_amount                           0.0                         0.0   \n",
       "Ehail_fee                              NaN                         NaN   \n",
       "improvement_surcharge                  0.3                         0.3   \n",
       "Total_amount                          11.3                        17.8   \n",
       "Payment_type                           2.0                         2.0   \n",
       "Trip_type                              1.0                         1.0   \n",
       "\n",
       "                                       max        std  \n",
       "VendorID                               2.0   0.411174  \n",
       "lpep_pickup_datetime   2015-09-02 16:59:45        NaN  \n",
       "Lpep_dropoff_datetime  2015-09-03 16:09:19        NaN  \n",
       "RateCodeID                            99.0   0.781101  \n",
       "Pickup_longitude                       0.0    3.04051  \n",
       "Pickup_latitude                  41.032986   1.676843  \n",
       "Dropoff_longitude                      0.0   2.466746  \n",
       "Dropoff_latitude                 41.227257   1.360617  \n",
       "Passenger_count                        9.0   1.023215  \n",
       "Trip_distance                        62.34   3.026139  \n",
       "Fare_amount                          400.0  10.604922  \n",
       "Extra                                 12.0   0.388277  \n",
       "MTA_tax                                0.5   0.094028  \n",
       "Tip_amount                           100.0    2.38283  \n",
       "Tolls_amount                         40.79    0.92179  \n",
       "Ehail_fee                              NaN        NaN  \n",
       "improvement_surcharge                  0.3   0.056342  \n",
       "Total_amount                         480.0  12.096235  \n",
       "Payment_type                           5.0   0.522893  \n",
       "Trip_type                              2.0   0.167228  "
      ]
     },
     "execution_count": 38,
     "metadata": {},
     "output_type": "execute_result"
    }
   ],
   "source": [
    "green_trip_data.describe().T"
   ]
  },
  {
   "cell_type": "markdown",
   "metadata": {},
   "source": [
    "xlrd library for xls\n",
    "openpyxl library for xlsx"
   ]
  },
  {
   "cell_type": "code",
   "execution_count": 47,
   "metadata": {},
   "outputs": [
    {
     "data": {
      "text/html": [
       "<div>\n",
       "<style scoped>\n",
       "    .dataframe tbody tr th:only-of-type {\n",
       "        vertical-align: middle;\n",
       "    }\n",
       "\n",
       "    .dataframe tbody tr th {\n",
       "        vertical-align: top;\n",
       "    }\n",
       "\n",
       "    .dataframe thead th {\n",
       "        text-align: right;\n",
       "    }\n",
       "</style>\n",
       "<table border=\"1\" class=\"dataframe\">\n",
       "  <thead>\n",
       "    <tr style=\"text-align: right;\">\n",
       "      <th></th>\n",
       "      <th>count</th>\n",
       "      <th>mean</th>\n",
       "      <th>std</th>\n",
       "      <th>min</th>\n",
       "      <th>25%</th>\n",
       "      <th>50%</th>\n",
       "      <th>75%</th>\n",
       "      <th>max</th>\n",
       "    </tr>\n",
       "  </thead>\n",
       "  <tbody>\n",
       "    <tr>\n",
       "      <th>Fare_amount</th>\n",
       "      <td>65535.0</td>\n",
       "      <td>12.40389</td>\n",
       "      <td>10.604922</td>\n",
       "      <td>-400.0</td>\n",
       "      <td>6.0</td>\n",
       "      <td>9.5</td>\n",
       "      <td>15.5</td>\n",
       "      <td>400.0</td>\n",
       "    </tr>\n",
       "  </tbody>\n",
       "</table>\n",
       "</div>"
      ],
      "text/plain": [
       "               count      mean        std    min  25%  50%   75%    max\n",
       "Fare_amount  65535.0  12.40389  10.604922 -400.0  6.0  9.5  15.5  400.0"
      ]
     },
     "execution_count": 47,
     "metadata": {},
     "output_type": "execute_result"
    }
   ],
   "source": [
    "green_trip_data[['Fare_amount']].describe().T"
   ]
  },
  {
   "cell_type": "code",
   "execution_count": 50,
   "metadata": {},
   "outputs": [
    {
     "data": {
      "image/png": "[encoded data removed]",
      "text/plain": [
       "<Figure size 640x480 with 1 Axes>"
      ]
     },
     "metadata": {},
     "output_type": "display_data"
    }
   ],
   "source": [
    "plt.hist(green_trip_data.Fare_amount[green_trip_data.Fare_amount > 0], bins= 50)\n",
    "plt.show()"
   ]
  },
  {
   "cell_type": "code",
   "execution_count": 51,
   "metadata": {},
   "outputs": [
    {
     "data": {
      "text/plain": [
       "np.float64(5.706613389091266)"
      ]
     },
     "execution_count": 51,
     "metadata": {},
     "output_type": "execute_result"
    }
   ],
   "source": [
    "green_trip_data.Fare_amount.skew()"
   ]
  },
  {
   "cell_type": "markdown",
   "metadata": {},
   "source": [
    "```Python\n",
    "import xlrd\n",
    "import openpyxl\n",
    "```\n"
   ]
  },
  {
   "cell_type": "markdown",
   "metadata": {},
   "source": [
    "### Web sources \n",
    "RESTfull API\n",
    "```python\n",
    "pd.read_json()\n",
    "```"
   ]
  },
  {
   "cell_type": "code",
   "execution_count": null,
   "metadata": {},
   "outputs": [],
   "source": [
    "pd.read_json(\"https://openlibrary.org/api/books?bibkeys=ISBN:9780345354907,ISBN:0881847690,LCCN:2005041555,ISBN:0060957905&format=json\",\n",
    "            orient = 'index'\n",
    "            )"
   ]
  },
  {
   "cell_type": "code",
   "execution_count": null,
   "metadata": {},
   "outputs": [],
   "source": []
  },
  {
   "cell_type": "markdown",
   "metadata": {},
   "source": [
    "orient = \"index\" parameter"
   ]
  },
  {
   "cell_type": "markdown",
   "metadata": {},
   "source": [
    "```python\n",
    "pd.read_xml()\n",
    "pd.read_hdf()\n",
    "```"
   ]
  },
  {
   "cell_type": "markdown",
   "metadata": {},
   "source": [
    "Use SQL\n",
    "\n",
    "SQLalchemy library\n",
    "Create engine\n",
    "\n",
    "```python\n",
    "pd.read_sql()\n",
    "```"
   ]
  },
  {
   "cell_type": "markdown",
   "metadata": {},
   "source": [
    "### Source for Connection strings:\n",
    "https://www.connectionstrings.com/"
   ]
  },
  {
   "cell_type": "markdown",
   "metadata": {},
   "source": [
    "### Source for sqlite db AdventureWorks\n",
    "https://github.com/nuitsjp/AdventureWorks-for-SQLite/tree/master\n",
    "\n",
    "```python\n",
    "# sqlite://<nohostname>/<path>\n",
    "# where <path> is relative:\n",
    "engine = create_engine('sqlite:///foo.db')\n",
    "\n",
    "# or absolute, starting with a slash:\n",
    "engine = create_engine('sqlite:////absolute/path/to/foo.db')\n",
    "```"
   ]
  },
  {
   "cell_type": "code",
   "execution_count": 58,
   "metadata": {},
   "outputs": [],
   "source": [
    "#SQLite\n",
    "engine = sqlalchemy.create_engine(\"sqlite:///data/example.db\")"
   ]
  },
  {
   "cell_type": "code",
   "execution_count": 59,
   "metadata": {},
   "outputs": [
    {
     "data": {
      "text/html": [
       "<div>\n",
       "<style scoped>\n",
       "    .dataframe tbody tr th:only-of-type {\n",
       "        vertical-align: middle;\n",
       "    }\n",
       "\n",
       "    .dataframe tbody tr th {\n",
       "        vertical-align: top;\n",
       "    }\n",
       "\n",
       "    .dataframe thead th {\n",
       "        text-align: right;\n",
       "    }\n",
       "</style>\n",
       "<table border=\"1\" class=\"dataframe\">\n",
       "  <thead>\n",
       "    <tr style=\"text-align: right;\">\n",
       "      <th></th>\n",
       "      <th>id</th>\n",
       "      <th>name</th>\n",
       "      <th>age</th>\n",
       "    </tr>\n",
       "  </thead>\n",
       "  <tbody>\n",
       "    <tr>\n",
       "      <th>0</th>\n",
       "      <td>1</td>\n",
       "      <td>Alice</td>\n",
       "      <td>30</td>\n",
       "    </tr>\n",
       "    <tr>\n",
       "      <th>1</th>\n",
       "      <td>2</td>\n",
       "      <td>Bob</td>\n",
       "      <td>24</td>\n",
       "    </tr>\n",
       "    <tr>\n",
       "      <th>2</th>\n",
       "      <td>3</td>\n",
       "      <td>Charlie</td>\n",
       "      <td>29</td>\n",
       "    </tr>\n",
       "  </tbody>\n",
       "</table>\n",
       "</div>"
      ],
      "text/plain": [
       "   id     name  age\n",
       "0   1    Alice   30\n",
       "1   2      Bob   24\n",
       "2   3  Charlie   29"
      ]
     },
     "execution_count": 59,
     "metadata": {},
     "output_type": "execute_result"
    }
   ],
   "source": [
    "pd.read_sql_table('users', engine)"
   ]
  },
  {
   "cell_type": "code",
   "execution_count": 61,
   "metadata": {},
   "outputs": [
    {
     "data": {
      "text/html": [
       "<div>\n",
       "<style scoped>\n",
       "    .dataframe tbody tr th:only-of-type {\n",
       "        vertical-align: middle;\n",
       "    }\n",
       "\n",
       "    .dataframe tbody tr th {\n",
       "        vertical-align: top;\n",
       "    }\n",
       "\n",
       "    .dataframe thead th {\n",
       "        text-align: right;\n",
       "    }\n",
       "</style>\n",
       "<table border=\"1\" class=\"dataframe\">\n",
       "  <thead>\n",
       "    <tr style=\"text-align: right;\">\n",
       "      <th></th>\n",
       "      <th>id</th>\n",
       "      <th>name</th>\n",
       "      <th>age</th>\n",
       "    </tr>\n",
       "  </thead>\n",
       "  <tbody>\n",
       "    <tr>\n",
       "      <th>0</th>\n",
       "      <td>1</td>\n",
       "      <td>Alice</td>\n",
       "      <td>30</td>\n",
       "    </tr>\n",
       "    <tr>\n",
       "      <th>1</th>\n",
       "      <td>3</td>\n",
       "      <td>Charlie</td>\n",
       "      <td>29</td>\n",
       "    </tr>\n",
       "  </tbody>\n",
       "</table>\n",
       "</div>"
      ],
      "text/plain": [
       "   id     name  age\n",
       "0   1    Alice   30\n",
       "1   3  Charlie   29"
      ]
     },
     "execution_count": 61,
     "metadata": {},
     "output_type": "execute_result"
    }
   ],
   "source": [
    "pd.read_sql('select * from users where age > 25', engine)"
   ]
  },
  {
   "cell_type": "markdown",
   "metadata": {},
   "source": [
    "Use SQL queries \n",
    "\n",
    "```python\n",
    "query = \"\"\"\n",
    "select * from table\n",
    "limit 5\n",
    "\"\"\"\n",
    "```\n",
    "psycopg2 for Postgres"
   ]
  },
  {
   "cell_type": "markdown",
   "metadata": {},
   "source": [
    "```python\n",
    "# postgre SQL v.1\n",
    "user = 'user'\n",
    "password = urllib.parse.quote_plus(\"password\")\n",
    "host = '127.0.0.1'\n",
    "port = '5432'\n",
    "database = 'dbname'\n",
    "\n",
    "\n",
    "connection_str = f'postgresql://{user}:{password}@{host}:{port}/{database}'\n",
    "\n",
    "engine = create_engine(connection_str)\n",
    "```"
   ]
  },
  {
   "cell_type": "markdown",
   "metadata": {},
   "source": [
    "```python\n",
    "# postgre SQL v.2\n",
    "\n",
    "conn = psycopg2.connect(\n",
    "    dbname='name',\n",
    "    host='localhost',\n",
    "    user='user',\n",
    "    password='password'\n",
    ")\n",
    "\n",
    "cur = conn.cursor()\n",
    "cur.execute(\"\"\"SELECT * from table_name\"\"\")\n",
    "rows = cur.fetchall()\n",
    "for row in rows:\n",
    "    print(row)\n",
    "conn.close()\n",
    "```"
   ]
  },
  {
   "cell_type": "markdown",
   "metadata": {},
   "source": [
    "\n",
    "### Web Scraping  / Web Crawling \n",
    "```python\n",
    "import requests\n",
    "from bs4 import BeautifulSoup\n",
    "```"
   ]
  },
  {
   "cell_type": "code",
   "execution_count": 20,
   "metadata": {},
   "outputs": [],
   "source": [
    "base_url = 'https://www.scrapethissite.com/pages/forms/'"
   ]
  },
  {
   "cell_type": "code",
   "execution_count": 21,
   "metadata": {},
   "outputs": [],
   "source": [
    "page = requests.get(base_url)"
   ]
  },
  {
   "cell_type": "code",
   "execution_count": 22,
   "metadata": {},
   "outputs": [],
   "source": [
    "soup = BeautifulSoup(page.text, 'html')"
   ]
  },
  {
   "cell_type": "code",
   "execution_count": 23,
   "metadata": {},
   "outputs": [],
   "source": [
    "table = soup.find('table', class_ = 'table')"
   ]
  },
  {
   "cell_type": "code",
   "execution_count": 24,
   "metadata": {},
   "outputs": [],
   "source": [
    "headers = table.find_all('th')"
   ]
  },
  {
   "cell_type": "code",
   "execution_count": 25,
   "metadata": {},
   "outputs": [],
   "source": [
    "titles = [header.text.strip() for header in headers]"
   ]
  },
  {
   "cell_type": "code",
   "execution_count": 26,
   "metadata": {},
   "outputs": [],
   "source": [
    "df = pd.DataFrame(columns=titles)"
   ]
  },
  {
   "cell_type": "code",
   "execution_count": 27,
   "metadata": {},
   "outputs": [],
   "source": [
    "rows = table.find_all('tr')[1:]"
   ]
  },
  {
   "cell_type": "code",
   "execution_count": 28,
   "metadata": {},
   "outputs": [],
   "source": [
    "for row in rows:\n",
    "    row_data = row.find_all('td')\n",
    "    data = [record.text.strip() for record in row_data]\n",
    "    df.loc[len(df)] = data"
   ]
  },
  {
   "cell_type": "code",
   "execution_count": 29,
   "metadata": {},
   "outputs": [
    {
     "data": {
      "text/html": [
       "<div>\n",
       "<style scoped>\n",
       "    .dataframe tbody tr th:only-of-type {\n",
       "        vertical-align: middle;\n",
       "    }\n",
       "\n",
       "    .dataframe tbody tr th {\n",
       "        vertical-align: top;\n",
       "    }\n",
       "\n",
       "    .dataframe thead th {\n",
       "        text-align: right;\n",
       "    }\n",
       "</style>\n",
       "<table border=\"1\" class=\"dataframe\">\n",
       "  <thead>\n",
       "    <tr style=\"text-align: right;\">\n",
       "      <th></th>\n",
       "      <th>Team Name</th>\n",
       "      <th>Year</th>\n",
       "      <th>Wins</th>\n",
       "      <th>Losses</th>\n",
       "      <th>OT Losses</th>\n",
       "      <th>Win %</th>\n",
       "      <th>Goals For (GF)</th>\n",
       "      <th>Goals Against (GA)</th>\n",
       "      <th>+ / -</th>\n",
       "    </tr>\n",
       "  </thead>\n",
       "  <tbody>\n",
       "    <tr>\n",
       "      <th>0</th>\n",
       "      <td>Boston Bruins</td>\n",
       "      <td>1990</td>\n",
       "      <td>44</td>\n",
       "      <td>24</td>\n",
       "      <td></td>\n",
       "      <td>0.55</td>\n",
       "      <td>299</td>\n",
       "      <td>264</td>\n",
       "      <td>35</td>\n",
       "    </tr>\n",
       "    <tr>\n",
       "      <th>1</th>\n",
       "      <td>Buffalo Sabres</td>\n",
       "      <td>1990</td>\n",
       "      <td>31</td>\n",
       "      <td>30</td>\n",
       "      <td></td>\n",
       "      <td>0.388</td>\n",
       "      <td>292</td>\n",
       "      <td>278</td>\n",
       "      <td>14</td>\n",
       "    </tr>\n",
       "    <tr>\n",
       "      <th>2</th>\n",
       "      <td>Calgary Flames</td>\n",
       "      <td>1990</td>\n",
       "      <td>46</td>\n",
       "      <td>26</td>\n",
       "      <td></td>\n",
       "      <td>0.575</td>\n",
       "      <td>344</td>\n",
       "      <td>263</td>\n",
       "      <td>81</td>\n",
       "    </tr>\n",
       "    <tr>\n",
       "      <th>3</th>\n",
       "      <td>Chicago Blackhawks</td>\n",
       "      <td>1990</td>\n",
       "      <td>49</td>\n",
       "      <td>23</td>\n",
       "      <td></td>\n",
       "      <td>0.613</td>\n",
       "      <td>284</td>\n",
       "      <td>211</td>\n",
       "      <td>73</td>\n",
       "    </tr>\n",
       "    <tr>\n",
       "      <th>4</th>\n",
       "      <td>Detroit Red Wings</td>\n",
       "      <td>1990</td>\n",
       "      <td>34</td>\n",
       "      <td>38</td>\n",
       "      <td></td>\n",
       "      <td>0.425</td>\n",
       "      <td>273</td>\n",
       "      <td>298</td>\n",
       "      <td>-25</td>\n",
       "    </tr>\n",
       "    <tr>\n",
       "      <th>5</th>\n",
       "      <td>Edmonton Oilers</td>\n",
       "      <td>1990</td>\n",
       "      <td>37</td>\n",
       "      <td>37</td>\n",
       "      <td></td>\n",
       "      <td>0.463</td>\n",
       "      <td>272</td>\n",
       "      <td>272</td>\n",
       "      <td>0</td>\n",
       "    </tr>\n",
       "    <tr>\n",
       "      <th>6</th>\n",
       "      <td>Hartford Whalers</td>\n",
       "      <td>1990</td>\n",
       "      <td>31</td>\n",
       "      <td>38</td>\n",
       "      <td></td>\n",
       "      <td>0.388</td>\n",
       "      <td>238</td>\n",
       "      <td>276</td>\n",
       "      <td>-38</td>\n",
       "    </tr>\n",
       "    <tr>\n",
       "      <th>7</th>\n",
       "      <td>Los Angeles Kings</td>\n",
       "      <td>1990</td>\n",
       "      <td>46</td>\n",
       "      <td>24</td>\n",
       "      <td></td>\n",
       "      <td>0.575</td>\n",
       "      <td>340</td>\n",
       "      <td>254</td>\n",
       "      <td>86</td>\n",
       "    </tr>\n",
       "    <tr>\n",
       "      <th>8</th>\n",
       "      <td>Minnesota North Stars</td>\n",
       "      <td>1990</td>\n",
       "      <td>27</td>\n",
       "      <td>39</td>\n",
       "      <td></td>\n",
       "      <td>0.338</td>\n",
       "      <td>256</td>\n",
       "      <td>266</td>\n",
       "      <td>-10</td>\n",
       "    </tr>\n",
       "    <tr>\n",
       "      <th>9</th>\n",
       "      <td>Montreal Canadiens</td>\n",
       "      <td>1990</td>\n",
       "      <td>39</td>\n",
       "      <td>30</td>\n",
       "      <td></td>\n",
       "      <td>0.487</td>\n",
       "      <td>273</td>\n",
       "      <td>249</td>\n",
       "      <td>24</td>\n",
       "    </tr>\n",
       "    <tr>\n",
       "      <th>10</th>\n",
       "      <td>New Jersey Devils</td>\n",
       "      <td>1990</td>\n",
       "      <td>32</td>\n",
       "      <td>33</td>\n",
       "      <td></td>\n",
       "      <td>0.4</td>\n",
       "      <td>272</td>\n",
       "      <td>264</td>\n",
       "      <td>8</td>\n",
       "    </tr>\n",
       "    <tr>\n",
       "      <th>11</th>\n",
       "      <td>New York Islanders</td>\n",
       "      <td>1990</td>\n",
       "      <td>25</td>\n",
       "      <td>45</td>\n",
       "      <td></td>\n",
       "      <td>0.312</td>\n",
       "      <td>223</td>\n",
       "      <td>290</td>\n",
       "      <td>-67</td>\n",
       "    </tr>\n",
       "    <tr>\n",
       "      <th>12</th>\n",
       "      <td>New York Rangers</td>\n",
       "      <td>1990</td>\n",
       "      <td>36</td>\n",
       "      <td>31</td>\n",
       "      <td></td>\n",
       "      <td>0.45</td>\n",
       "      <td>297</td>\n",
       "      <td>265</td>\n",
       "      <td>32</td>\n",
       "    </tr>\n",
       "    <tr>\n",
       "      <th>13</th>\n",
       "      <td>Philadelphia Flyers</td>\n",
       "      <td>1990</td>\n",
       "      <td>33</td>\n",
       "      <td>37</td>\n",
       "      <td></td>\n",
       "      <td>0.412</td>\n",
       "      <td>252</td>\n",
       "      <td>267</td>\n",
       "      <td>-15</td>\n",
       "    </tr>\n",
       "    <tr>\n",
       "      <th>14</th>\n",
       "      <td>Pittsburgh Penguins</td>\n",
       "      <td>1990</td>\n",
       "      <td>41</td>\n",
       "      <td>33</td>\n",
       "      <td></td>\n",
       "      <td>0.512</td>\n",
       "      <td>342</td>\n",
       "      <td>305</td>\n",
       "      <td>37</td>\n",
       "    </tr>\n",
       "    <tr>\n",
       "      <th>15</th>\n",
       "      <td>Quebec Nordiques</td>\n",
       "      <td>1990</td>\n",
       "      <td>16</td>\n",
       "      <td>50</td>\n",
       "      <td></td>\n",
       "      <td>0.2</td>\n",
       "      <td>236</td>\n",
       "      <td>354</td>\n",
       "      <td>-118</td>\n",
       "    </tr>\n",
       "    <tr>\n",
       "      <th>16</th>\n",
       "      <td>St. Louis Blues</td>\n",
       "      <td>1990</td>\n",
       "      <td>47</td>\n",
       "      <td>22</td>\n",
       "      <td></td>\n",
       "      <td>0.588</td>\n",
       "      <td>310</td>\n",
       "      <td>250</td>\n",
       "      <td>60</td>\n",
       "    </tr>\n",
       "    <tr>\n",
       "      <th>17</th>\n",
       "      <td>Toronto Maple Leafs</td>\n",
       "      <td>1990</td>\n",
       "      <td>23</td>\n",
       "      <td>46</td>\n",
       "      <td></td>\n",
       "      <td>0.287</td>\n",
       "      <td>241</td>\n",
       "      <td>318</td>\n",
       "      <td>-77</td>\n",
       "    </tr>\n",
       "    <tr>\n",
       "      <th>18</th>\n",
       "      <td>Vancouver Canucks</td>\n",
       "      <td>1990</td>\n",
       "      <td>28</td>\n",
       "      <td>43</td>\n",
       "      <td></td>\n",
       "      <td>0.35</td>\n",
       "      <td>243</td>\n",
       "      <td>315</td>\n",
       "      <td>-72</td>\n",
       "    </tr>\n",
       "    <tr>\n",
       "      <th>19</th>\n",
       "      <td>Washington Capitals</td>\n",
       "      <td>1990</td>\n",
       "      <td>37</td>\n",
       "      <td>36</td>\n",
       "      <td></td>\n",
       "      <td>0.463</td>\n",
       "      <td>258</td>\n",
       "      <td>258</td>\n",
       "      <td>0</td>\n",
       "    </tr>\n",
       "    <tr>\n",
       "      <th>20</th>\n",
       "      <td>Winnipeg Jets</td>\n",
       "      <td>1990</td>\n",
       "      <td>26</td>\n",
       "      <td>43</td>\n",
       "      <td></td>\n",
       "      <td>0.325</td>\n",
       "      <td>260</td>\n",
       "      <td>288</td>\n",
       "      <td>-28</td>\n",
       "    </tr>\n",
       "    <tr>\n",
       "      <th>21</th>\n",
       "      <td>Boston Bruins</td>\n",
       "      <td>1991</td>\n",
       "      <td>36</td>\n",
       "      <td>32</td>\n",
       "      <td></td>\n",
       "      <td>0.45</td>\n",
       "      <td>270</td>\n",
       "      <td>275</td>\n",
       "      <td>-5</td>\n",
       "    </tr>\n",
       "    <tr>\n",
       "      <th>22</th>\n",
       "      <td>Buffalo Sabres</td>\n",
       "      <td>1991</td>\n",
       "      <td>31</td>\n",
       "      <td>37</td>\n",
       "      <td></td>\n",
       "      <td>0.388</td>\n",
       "      <td>289</td>\n",
       "      <td>299</td>\n",
       "      <td>-10</td>\n",
       "    </tr>\n",
       "    <tr>\n",
       "      <th>23</th>\n",
       "      <td>Calgary Flames</td>\n",
       "      <td>1991</td>\n",
       "      <td>31</td>\n",
       "      <td>37</td>\n",
       "      <td></td>\n",
       "      <td>0.388</td>\n",
       "      <td>296</td>\n",
       "      <td>305</td>\n",
       "      <td>-9</td>\n",
       "    </tr>\n",
       "    <tr>\n",
       "      <th>24</th>\n",
       "      <td>Chicago Blackhawks</td>\n",
       "      <td>1991</td>\n",
       "      <td>36</td>\n",
       "      <td>29</td>\n",
       "      <td></td>\n",
       "      <td>0.45</td>\n",
       "      <td>257</td>\n",
       "      <td>236</td>\n",
       "      <td>21</td>\n",
       "    </tr>\n",
       "  </tbody>\n",
       "</table>\n",
       "</div>"
      ],
      "text/plain": [
       "                Team Name  Year Wins Losses OT Losses  Win % Goals For (GF)  \\\n",
       "0           Boston Bruins  1990   44     24             0.55            299   \n",
       "1          Buffalo Sabres  1990   31     30            0.388            292   \n",
       "2          Calgary Flames  1990   46     26            0.575            344   \n",
       "3      Chicago Blackhawks  1990   49     23            0.613            284   \n",
       "4       Detroit Red Wings  1990   34     38            0.425            273   \n",
       "5         Edmonton Oilers  1990   37     37            0.463            272   \n",
       "6        Hartford Whalers  1990   31     38            0.388            238   \n",
       "7       Los Angeles Kings  1990   46     24            0.575            340   \n",
       "8   Minnesota North Stars  1990   27     39            0.338            256   \n",
       "9      Montreal Canadiens  1990   39     30            0.487            273   \n",
       "10      New Jersey Devils  1990   32     33              0.4            272   \n",
       "11     New York Islanders  1990   25     45            0.312            223   \n",
       "12       New York Rangers  1990   36     31             0.45            297   \n",
       "13    Philadelphia Flyers  1990   33     37            0.412            252   \n",
       "14    Pittsburgh Penguins  1990   41     33            0.512            342   \n",
       "15       Quebec Nordiques  1990   16     50              0.2            236   \n",
       "16        St. Louis Blues  1990   47     22            0.588            310   \n",
       "17    Toronto Maple Leafs  1990   23     46            0.287            241   \n",
       "18      Vancouver Canucks  1990   28     43             0.35            243   \n",
       "19    Washington Capitals  1990   37     36            0.463            258   \n",
       "20          Winnipeg Jets  1990   26     43            0.325            260   \n",
       "21          Boston Bruins  1991   36     32             0.45            270   \n",
       "22         Buffalo Sabres  1991   31     37            0.388            289   \n",
       "23         Calgary Flames  1991   31     37            0.388            296   \n",
       "24     Chicago Blackhawks  1991   36     29             0.45            257   \n",
       "\n",
       "   Goals Against (GA) + / -  \n",
       "0                 264    35  \n",
       "1                 278    14  \n",
       "2                 263    81  \n",
       "3                 211    73  \n",
       "4                 298   -25  \n",
       "5                 272     0  \n",
       "6                 276   -38  \n",
       "7                 254    86  \n",
       "8                 266   -10  \n",
       "9                 249    24  \n",
       "10                264     8  \n",
       "11                290   -67  \n",
       "12                265    32  \n",
       "13                267   -15  \n",
       "14                305    37  \n",
       "15                354  -118  \n",
       "16                250    60  \n",
       "17                318   -77  \n",
       "18                315   -72  \n",
       "19                258     0  \n",
       "20                288   -28  \n",
       "21                275    -5  \n",
       "22                299   -10  \n",
       "23                305    -9  \n",
       "24                236    21  "
      ]
     },
     "execution_count": 29,
     "metadata": {},
     "output_type": "execute_result"
    }
   ],
   "source": [
    "df"
   ]
  },
  {
   "cell_type": "markdown",
   "metadata": {},
   "source": [
    "Selenium library"
   ]
  },
  {
   "cell_type": "markdown",
   "metadata": {},
   "source": [
    "#### Data Consolidation Principles "
   ]
  },
  {
   "cell_type": "markdown",
   "metadata": {},
   "source": [
    "Join and Concatenate"
   ]
  },
  {
   "cell_type": "markdown",
   "metadata": {},
   "source": [
    "Pandas Merge method == join\n",
    "\n",
    "Cartesian join + intersection "
   ]
  },
  {
   "cell_type": "markdown",
   "metadata": {},
   "source": [
    "Concat"
   ]
  },
  {
   "cell_type": "markdown",
   "metadata": {},
   "source": [
    "https://pandas.pydata.org/docs/user_guide/merging.html"
   ]
  },
  {
   "cell_type": "markdown",
   "metadata": {},
   "source": [
    "#### NB! Document actions and processes (why) and the results\n",
    "#### NB! Use code for data cleaning and transformation "
   ]
  }
 ],
 "metadata": {
  "kernelspec": {
   "display_name": "base",
   "language": "python",
   "name": "python3"
  },
  "language_info": {
   "codemirror_mode": {
    "name": "ipython",
    "version": 3
   },
   "file_extension": ".py",
   "mimetype": "text/x-python",
   "name": "python",
   "nbconvert_exporter": "python",
   "pygments_lexer": "ipython3",
   "version": "3.11.1"
  }
 },
 "nbformat": 4,
 "nbformat_minor": 2
}
