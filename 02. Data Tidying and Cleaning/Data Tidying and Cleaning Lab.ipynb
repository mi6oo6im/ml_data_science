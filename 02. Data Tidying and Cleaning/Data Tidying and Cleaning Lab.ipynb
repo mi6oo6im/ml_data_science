{
 "cells": [
  {
   "cell_type": "code",
   "execution_count": 1,
   "id": "078d90d4-aec6-40fe-997f-ce63c962d936",
   "metadata": {},
   "outputs": [],
   "source": [
    "# Write your imports here\n",
    "import pandas as pd\n",
    "import numpy as np\n",
    "import matplotlib.pyplot as plt"
   ]
  },
  {
   "cell_type": "markdown",
   "id": "02aa71be-5d01-4efc-85fa-a019fe92a39a",
   "metadata": {},
   "source": [
    "# Data Tidying and Cleaning Lab\n",
    "## Reading, tidying and cleaning data. Preparing data for exploration, mining, analysis and learning"
   ]
  },
  {
   "cell_type": "markdown",
   "id": "259927d3-4ad5-471e-b34b-114f07127a39",
   "metadata": {},
   "source": [
    "In this lab, you'll be working with the Coffee Quality Index dataset, located [here](https://www.kaggle.com/datasets/volpatto/coffee-quality-database-from-cqi). For convenience (and to save trouble in case you can't download files, or someone uploads a newer version), I've provided the dataset in the `data/` folder. The metadata (description) is at the Kaggle link. For this lab, you'll only need `merged_data_cleaned.csv`, as it is the concatenation of the other two datasets.\n",
    "\n",
    "In this (and the following labs), you'll get several questions and problems. Do your analysis, describe it, use any tools and plots you wish, and answer. You can create any amount of cells you'd like.\n",
    "\n",
    "Sometimes, the answers will not be unique, and they will depend on how you decide to approach and solve the problem. This is usual - we're doing science after all!\n",
    "\n",
    "It's a good idea to save your clean dataset after all the work you've done to it."
   ]
  },
  {
   "cell_type": "markdown",
   "id": "4450ac8e-523c-46f8-a410-9ad5af4cfc14",
   "metadata": {},
   "source": [
    "### Problem 1. Read the dataset (1 point)\n",
    "This should be self-explanatory. The first column is the index."
   ]
  },
  {
   "cell_type": "code",
   "execution_count": 2,
   "id": "df50bd71-ea2a-4db9-814d-c49f782ca101",
   "metadata": {},
   "outputs": [],
   "source": [
    "coffee_data = pd.read_csv('data/merged_data_cleaned.csv')"
   ]
  },
  {
   "cell_type": "code",
   "execution_count": 3,
   "id": "b9d415ed",
   "metadata": {},
   "outputs": [
    {
     "data": {
      "text/plain": [
       "0    April 3rd, 2016\n",
       "1    April 3rd, 2016\n",
       "Name: Expiration, dtype: object"
      ]
     },
     "execution_count": 3,
     "metadata": {},
     "output_type": "execute_result"
    }
   ],
   "source": [
    "coffee_data.head(2)['Expiration']"
   ]
  },
  {
   "cell_type": "markdown",
   "id": "b278e2a8-56b4-4b1a-ad71-e7b920321e37",
   "metadata": {},
   "source": [
    "### Problem 2. Observations and features (1 point)\n",
    "How many observations are there? How many features? Which features are numerical, and which are categorical?\n",
    "\n",
    "**Note:** Think about the _meaning_, not the data types. The dataset hasn't been thoroughly cleaned."
   ]
  },
  {
   "cell_type": "code",
   "execution_count": 4,
   "id": "e7d17c46-5475-4c33-9c35-b7cf56ac41c3",
   "metadata": {},
   "outputs": [
    {
     "data": {
      "text/plain": [
       "(1339, 44)"
      ]
     },
     "execution_count": 4,
     "metadata": {},
     "output_type": "execute_result"
    }
   ],
   "source": [
    "coffee_data.shape"
   ]
  },
  {
   "cell_type": "markdown",
   "id": "48b8de1f",
   "metadata": {},
   "source": [
    "44 features\n",
    "1339 observations"
   ]
  },
  {
   "cell_type": "code",
   "execution_count": 5,
   "id": "45f2a544",
   "metadata": {},
   "outputs": [
    {
     "data": {
      "text/plain": [
       "Index(['Unnamed: 0', 'Species', 'Owner', 'Country.of.Origin', 'Farm.Name',\n",
       "       'Lot.Number', 'Mill', 'ICO.Number', 'Company', 'Altitude', 'Region',\n",
       "       'Producer', 'Number.of.Bags', 'Bag.Weight', 'In.Country.Partner',\n",
       "       'Harvest.Year', 'Grading.Date', 'Owner.1', 'Variety',\n",
       "       'Processing.Method', 'Aroma', 'Flavor', 'Aftertaste', 'Acidity', 'Body',\n",
       "       'Balance', 'Uniformity', 'Clean.Cup', 'Sweetness', 'Cupper.Points',\n",
       "       'Total.Cup.Points', 'Moisture', 'Category.One.Defects', 'Quakers',\n",
       "       'Color', 'Category.Two.Defects', 'Expiration', 'Certification.Body',\n",
       "       'Certification.Address', 'Certification.Contact', 'unit_of_measurement',\n",
       "       'altitude_low_meters', 'altitude_high_meters', 'altitude_mean_meters'],\n",
       "      dtype='object')"
      ]
     },
     "execution_count": 5,
     "metadata": {},
     "output_type": "execute_result"
    }
   ],
   "source": [
    "coffee_data.columns"
   ]
  },
  {
   "cell_type": "code",
   "execution_count": 6,
   "id": "62f935d0",
   "metadata": {},
   "outputs": [
    {
     "data": {
      "text/plain": [
       "Unnamed: 0                 int64\n",
       "Species                   object\n",
       "Owner                     object\n",
       "Country.of.Origin         object\n",
       "Farm.Name                 object\n",
       "Lot.Number                object\n",
       "Mill                      object\n",
       "ICO.Number                object\n",
       "Company                   object\n",
       "Altitude                  object\n",
       "Region                    object\n",
       "Producer                  object\n",
       "Number.of.Bags             int64\n",
       "Bag.Weight                object\n",
       "In.Country.Partner        object\n",
       "Harvest.Year              object\n",
       "Grading.Date              object\n",
       "Owner.1                   object\n",
       "Variety                   object\n",
       "Processing.Method         object\n",
       "Aroma                    float64\n",
       "Flavor                   float64\n",
       "Aftertaste               float64\n",
       "Acidity                  float64\n",
       "Body                     float64\n",
       "Balance                  float64\n",
       "Uniformity               float64\n",
       "Clean.Cup                float64\n",
       "Sweetness                float64\n",
       "Cupper.Points            float64\n",
       "Total.Cup.Points         float64\n",
       "Moisture                 float64\n",
       "Category.One.Defects       int64\n",
       "Quakers                  float64\n",
       "Color                     object\n",
       "Category.Two.Defects       int64\n",
       "Expiration                object\n",
       "Certification.Body        object\n",
       "Certification.Address     object\n",
       "Certification.Contact     object\n",
       "unit_of_measurement       object\n",
       "altitude_low_meters      float64\n",
       "altitude_high_meters     float64\n",
       "altitude_mean_meters     float64\n",
       "dtype: object"
      ]
     },
     "execution_count": 6,
     "metadata": {},
     "output_type": "execute_result"
    }
   ],
   "source": [
    "coffee_data.dtypes"
   ]
  },
  {
   "cell_type": "markdown",
   "id": "94e47592",
   "metadata": {},
   "source": [
    "Categorical features: 'Species', 'Owner', 'Country.of.Origin', 'Farm.Name',\n",
    "       'Lot.Number', 'Mill', 'ICO.Number', 'Company', 'Altitude', 'Region',\n",
    "       'Producer', 'In.Country.Partner', 'Harvest.Year', 'Grading.Date', 'Owner.1', 'Variety',\n",
    "       'Processing.Method', 'Color', 'Expiration', 'Certification.Body',\n",
    "       'Certification.Address', 'Certification.Contact', 'unit_of_measurement',\n",
    "\n",
    "Numerical features: 'altitude_low_meters', 'altitude_high_meters', 'altitude_mean_meters', 'Aroma', 'Flavor',   'Aftertaste', 'Acidity', 'Body', 'Balance', 'Uniformity', 'Clean.Cup', 'Sweetness', 'Cupper.Points','Total.Cup.Points', 'Moisture', 'Category.One.Defects', 'Quakers', 'altitude_low_meters', 'altitude_high_meters', 'altitude_mean_meters'"
   ]
  },
  {
   "cell_type": "markdown",
   "id": "2b745e68-35eb-4acb-b39f-513137f0ee4b",
   "metadata": {},
   "source": [
    "### Problem 3. Column manipulation (1 point)\n",
    "Make the column names more Pythonic (which helps with the quality and... aesthetics). Convert column names to `snake_case`, i.e. `species`, `country_of_origin`, `ico_number`, etc. Try to not do it manually."
   ]
  },
  {
   "cell_type": "code",
   "execution_count": 7,
   "id": "301e9f3f-afd6-4a91-a32f-1974584694ca",
   "metadata": {},
   "outputs": [],
   "source": [
    "data = {'columns': ['Unnamed: 0', 'Species', 'Owner', 'Country.of.Origin', 'Farm.Name',\n",
    "       'Lot.Number', 'Mill', 'ICO.Number', 'Company', 'Altitude', 'Region',\n",
    "       'Producer', 'Number.of.Bags', 'Bag.Weight', 'In.Country.Partner',\n",
    "       'Harvest.Year', 'Grading.Date', 'Owner.1', 'Variety',\n",
    "       'Processing.Method', 'Aroma', 'Flavor', 'Aftertaste', 'Acidity', 'Body',\n",
    "       'Balance', 'Uniformity', 'Clean.Cup', 'Sweetness', 'Cupper.Points',\n",
    "       'Total.Cup.Points', 'Moisture', 'Category.One.Defects', 'Quakers',\n",
    "       'Color', 'Category.Two.Defects', 'Expiration', 'Certification.Body',\n",
    "       'Certification.Address', 'Certification.Contact', 'unit_of_measurement',\n",
    "       'altitude_low_meters', 'altitude_high_meters', 'altitude_mean_meters']}\n",
    "\n",
    "df = pd.DataFrame(data)"
   ]
  },
  {
   "cell_type": "code",
   "execution_count": 8,
   "id": "a2b34770",
   "metadata": {},
   "outputs": [],
   "source": [
    "df['columns'] = df['columns'].str.lower()"
   ]
  },
  {
   "cell_type": "code",
   "execution_count": 9,
   "id": "0c3f2a0e",
   "metadata": {},
   "outputs": [],
   "source": [
    "df['columns'] = df['columns'].str.replace('.', '_')"
   ]
  },
  {
   "cell_type": "code",
   "execution_count": 10,
   "id": "b350f3c4",
   "metadata": {},
   "outputs": [
    {
     "data": {
      "text/plain": [
       "Index(['Unnamed: 0', 'Species', 'Owner', 'Country.of.Origin', 'Farm.Name',\n",
       "       'Lot.Number', 'Mill', 'ICO.Number', 'Company', 'Altitude', 'Region',\n",
       "       'Producer', 'Number.of.Bags', 'Bag.Weight', 'In.Country.Partner',\n",
       "       'Harvest.Year', 'Grading.Date', 'Owner.1', 'Variety',\n",
       "       'Processing.Method', 'Aroma', 'Flavor', 'Aftertaste', 'Acidity', 'Body',\n",
       "       'Balance', 'Uniformity', 'Clean.Cup', 'Sweetness', 'Cupper.Points',\n",
       "       'Total.Cup.Points', 'Moisture', 'Category.One.Defects', 'Quakers',\n",
       "       'Color', 'Category.Two.Defects', 'Expiration', 'Certification.Body',\n",
       "       'Certification.Address', 'Certification.Contact', 'unit_of_measurement',\n",
       "       'altitude_low_meters', 'altitude_high_meters', 'altitude_mean_meters'],\n",
       "      dtype='object')"
      ]
     },
     "execution_count": 10,
     "metadata": {},
     "output_type": "execute_result"
    }
   ],
   "source": [
    "coffee_data.columns"
   ]
  },
  {
   "cell_type": "code",
   "execution_count": 11,
   "id": "2bbf8e7b",
   "metadata": {},
   "outputs": [],
   "source": [
    "coffee_data.columns = df['columns']"
   ]
  },
  {
   "cell_type": "code",
   "execution_count": 12,
   "id": "5d9f0cbe",
   "metadata": {},
   "outputs": [
    {
     "data": {
      "text/plain": [
       "Index(['unnamed: 0', 'species', 'owner', 'country_of_origin', 'farm_name',\n",
       "       'lot_number', 'mill', 'ico_number', 'company', 'altitude', 'region',\n",
       "       'producer', 'number_of_bags', 'bag_weight', 'in_country_partner',\n",
       "       'harvest_year', 'grading_date', 'owner_1', 'variety',\n",
       "       'processing_method', 'aroma', 'flavor', 'aftertaste', 'acidity', 'body',\n",
       "       'balance', 'uniformity', 'clean_cup', 'sweetness', 'cupper_points',\n",
       "       'total_cup_points', 'moisture', 'category_one_defects', 'quakers',\n",
       "       'color', 'category_two_defects', 'expiration', 'certification_body',\n",
       "       'certification_address', 'certification_contact', 'unit_of_measurement',\n",
       "       'altitude_low_meters', 'altitude_high_meters', 'altitude_mean_meters'],\n",
       "      dtype='object', name='columns')"
      ]
     },
     "execution_count": 12,
     "metadata": {},
     "output_type": "execute_result"
    }
   ],
   "source": [
    "coffee_data.columns"
   ]
  },
  {
   "cell_type": "markdown",
   "id": "8c53c4c6-6eb9-4c92-bd39-89286fe4c86e",
   "metadata": {},
   "source": [
    "### Problem 4. Bag weight (1 point)\n",
    "What's up with the bag weights? Make all necessary changes to the column values. Don't forget to document your methods and assumptions."
   ]
  },
  {
   "cell_type": "code",
   "execution_count": 13,
   "id": "8e97f3d0-1223-49a7-99a9-51a65e4ff4e0",
   "metadata": {},
   "outputs": [],
   "source": [
    "# we extract the numeric type of the value using extract. Same can be achieved using split by ' '\n",
    "coffee_data.bag_weight = coffee_data.bag_weight.str.extract('(\\d+)').astype(int)"
   ]
  },
  {
   "cell_type": "code",
   "execution_count": 14,
   "id": "8e8cd5da",
   "metadata": {},
   "outputs": [
    {
     "data": {
      "text/plain": [
       "columns\n",
       "unnamed: 0                 int64\n",
       "species                   object\n",
       "owner                     object\n",
       "country_of_origin         object\n",
       "farm_name                 object\n",
       "lot_number                object\n",
       "mill                      object\n",
       "ico_number                object\n",
       "company                   object\n",
       "altitude                  object\n",
       "region                    object\n",
       "producer                  object\n",
       "number_of_bags             int64\n",
       "bag_weight                 int32\n",
       "in_country_partner        object\n",
       "harvest_year              object\n",
       "grading_date              object\n",
       "owner_1                   object\n",
       "variety                   object\n",
       "processing_method         object\n",
       "aroma                    float64\n",
       "flavor                   float64\n",
       "aftertaste               float64\n",
       "acidity                  float64\n",
       "body                     float64\n",
       "balance                  float64\n",
       "uniformity               float64\n",
       "clean_cup                float64\n",
       "sweetness                float64\n",
       "cupper_points            float64\n",
       "total_cup_points         float64\n",
       "moisture                 float64\n",
       "category_one_defects       int64\n",
       "quakers                  float64\n",
       "color                     object\n",
       "category_two_defects       int64\n",
       "expiration                object\n",
       "certification_body        object\n",
       "certification_address     object\n",
       "certification_contact     object\n",
       "unit_of_measurement       object\n",
       "altitude_low_meters      float64\n",
       "altitude_high_meters     float64\n",
       "altitude_mean_meters     float64\n",
       "dtype: object"
      ]
     },
     "execution_count": 14,
     "metadata": {},
     "output_type": "execute_result"
    }
   ],
   "source": [
    "coffee_data.dtypes"
   ]
  },
  {
   "cell_type": "markdown",
   "id": "2ff1f817-8e5e-4185-a320-dde7ed2cada1",
   "metadata": {},
   "source": [
    "### Problem 5. Dates (1 point)\n",
    "This should remind you of problem 4 but it's slightly nastier. Fix the harvest years, document the process.\n",
    "\n",
    "While you're here, fix the expiration dates, and grading dates. Unlike the other column, these should be dates (`pd.to_datetime()` is your friend)."
   ]
  },
  {
   "cell_type": "code",
   "execution_count": 15,
   "id": "814dc5f9-9572-44f0-bff6-8efeb084f93d",
   "metadata": {},
   "outputs": [],
   "source": [
    "coffee_data = coffee_data.dropna()"
   ]
  },
  {
   "cell_type": "code",
   "execution_count": 16,
   "id": "097f740e",
   "metadata": {},
   "outputs": [
    {
     "data": {
      "text/plain": [
       "<bound method Series.unique of 29             2015\n",
       "115            2016\n",
       "125            2016\n",
       "128            2015\n",
       "129            2015\n",
       "           ...     \n",
       "1235           2016\n",
       "1253    2017 / 2018\n",
       "1308           2016\n",
       "1319           2015\n",
       "1322           2015\n",
       "Name: harvest_year, Length: 132, dtype: object>"
      ]
     },
     "execution_count": 16,
     "metadata": {},
     "output_type": "execute_result"
    }
   ],
   "source": [
    "coffee_data.harvest_year.unique"
   ]
  },
  {
   "cell_type": "code",
   "execution_count": 17,
   "id": "bd11c7a8",
   "metadata": {},
   "outputs": [],
   "source": [
    "coffee_data.harvest_year = coffee_data.harvest_year.str.slice(0,4).astype(int)"
   ]
  },
  {
   "cell_type": "code",
   "execution_count": 18,
   "id": "4a21fbd1",
   "metadata": {},
   "outputs": [
    {
     "data": {
      "text/plain": [
       "298    June 6th, 2018\n",
       "Name: expiration, dtype: object"
      ]
     },
     "execution_count": 18,
     "metadata": {},
     "output_type": "execute_result"
    }
   ],
   "source": [
    "coffee_data.expiration.sample()"
   ]
  },
  {
   "cell_type": "code",
   "execution_count": 19,
   "id": "e4278600",
   "metadata": {},
   "outputs": [],
   "source": [
    "coffee_data.expiration = coffee_data.expiration.str.replace(r'(\\d+)(st|nd|rd|th)', r'\\1', regex = True)"
   ]
  },
  {
   "cell_type": "code",
   "execution_count": 20,
   "id": "a9bc166d",
   "metadata": {},
   "outputs": [],
   "source": [
    "coffee_data.expiration = pd.to_datetime(coffee_data.expiration)"
   ]
  },
  {
   "cell_type": "code",
   "execution_count": 21,
   "id": "99845894",
   "metadata": {},
   "outputs": [
    {
     "data": {
      "text/plain": [
       "335   2018-10-20\n",
       "Name: expiration, dtype: datetime64[ns]"
      ]
     },
     "execution_count": 21,
     "metadata": {},
     "output_type": "execute_result"
    }
   ],
   "source": [
    "coffee_data.expiration.sample()"
   ]
  },
  {
   "cell_type": "markdown",
   "id": "0dff33b4-c94d-43b3-bab3-97eabb862a37",
   "metadata": {},
   "source": [
    "### Problem 6. Countries (1 point)\n",
    "How many coffees are there with unknown countries of origin? What can you do about them?"
   ]
  },
  {
   "cell_type": "code",
   "execution_count": 22,
   "id": "0851c1a8-0420-4dba-ac27-487bae4318be",
   "metadata": {},
   "outputs": [
    {
     "data": {
      "text/plain": [
       "array(['Taiwan', 'El Salvador', 'Costa Rica', 'Guatemala', 'Uganda',\n",
       "       'Indonesia', 'Honduras', 'Brazil', 'Mexico', 'Nicaragua',\n",
       "       'Tanzania, United Republic Of', 'China', 'India'], dtype=object)"
      ]
     },
     "execution_count": 22,
     "metadata": {},
     "output_type": "execute_result"
    }
   ],
   "source": [
    "coffee_data.country_of_origin.unique()"
   ]
  },
  {
   "cell_type": "markdown",
   "id": "d0aa6f30-4b93-4f23-95e0-2cafb7152c6c",
   "metadata": {},
   "source": [
    "### Problem 7. Owners (1 point)\n",
    "There are two suspicious columns, named `Owner`, and `Owner.1` (they're likely called something different after you solved problem 3). Do something about them. Is there any link to `Producer`?"
   ]
  },
  {
   "cell_type": "code",
   "execution_count": 23,
   "id": "39bc1689-33f6-4446-bfc3-c4b4e69eccf6",
   "metadata": {},
   "outputs": [
    {
     "data": {
      "text/html": [
       "<div>\n",
       "<style scoped>\n",
       "    .dataframe tbody tr th:only-of-type {\n",
       "        vertical-align: middle;\n",
       "    }\n",
       "\n",
       "    .dataframe tbody tr th {\n",
       "        vertical-align: top;\n",
       "    }\n",
       "\n",
       "    .dataframe thead th {\n",
       "        text-align: right;\n",
       "    }\n",
       "</style>\n",
       "<table border=\"1\" class=\"dataframe\">\n",
       "  <thead>\n",
       "    <tr style=\"text-align: right;\">\n",
       "      <th>columns</th>\n",
       "      <th>owner</th>\n",
       "      <th>owner_1</th>\n",
       "      <th>producer</th>\n",
       "    </tr>\n",
       "  </thead>\n",
       "  <tbody>\n",
       "    <tr>\n",
       "      <th>29</th>\n",
       "      <td>lin, che-hao krude 林哲豪</td>\n",
       "      <td>Lin, Che-Hao Krude 林哲豪</td>\n",
       "      <td>FANG,ZHENG-LUN 方政倫</td>\n",
       "    </tr>\n",
       "    <tr>\n",
       "      <th>115</th>\n",
       "      <td>lin, che-hao krude 林哲豪</td>\n",
       "      <td>Lin, Che-Hao Krude 林哲豪</td>\n",
       "      <td>Wang Chao Yung 王超永</td>\n",
       "    </tr>\n",
       "    <tr>\n",
       "      <th>125</th>\n",
       "      <td>consejo salvadoreño del café</td>\n",
       "      <td>Consejo Salvadoreño del Café</td>\n",
       "      <td>J.J. Borja Nathan</td>\n",
       "    </tr>\n",
       "    <tr>\n",
       "      <th>128</th>\n",
       "      <td>rodrigo soto</td>\n",
       "      <td>Rodrigo Soto</td>\n",
       "      <td>Johanna</td>\n",
       "    </tr>\n",
       "    <tr>\n",
       "      <th>129</th>\n",
       "      <td>juan luis alvarado romero</td>\n",
       "      <td>Juan Luis Alvarado Romero</td>\n",
       "      <td>JUAN BOCK</td>\n",
       "    </tr>\n",
       "    <tr>\n",
       "      <th>...</th>\n",
       "      <td>...</td>\n",
       "      <td>...</td>\n",
       "      <td>...</td>\n",
       "    </tr>\n",
       "    <tr>\n",
       "      <th>1235</th>\n",
       "      <td>lin, che-hao krude 林哲豪</td>\n",
       "      <td>Lin, Che-Hao Krude 林哲豪</td>\n",
       "      <td>林俊吉( Lin, Chun-Chi)</td>\n",
       "    </tr>\n",
       "    <tr>\n",
       "      <th>1253</th>\n",
       "      <td>ipanema coffees</td>\n",
       "      <td>Ipanema Coffees</td>\n",
       "      <td>Ipanema Agricola S.A</td>\n",
       "    </tr>\n",
       "    <tr>\n",
       "      <th>1308</th>\n",
       "      <td>exportadora atlantic, s.a.</td>\n",
       "      <td>Exportadora Atlantic, S.A.</td>\n",
       "      <td>Teófilo Narváez</td>\n",
       "    </tr>\n",
       "    <tr>\n",
       "      <th>1319</th>\n",
       "      <td>nishant gurjer</td>\n",
       "      <td>Nishant Gurjer</td>\n",
       "      <td>Sethuraman Estate Kaapi Royale</td>\n",
       "    </tr>\n",
       "    <tr>\n",
       "      <th>1322</th>\n",
       "      <td>nishant gurjer</td>\n",
       "      <td>Nishant Gurjer</td>\n",
       "      <td>Sethuraman Estate Kaapi Royale</td>\n",
       "    </tr>\n",
       "  </tbody>\n",
       "</table>\n",
       "<p>132 rows × 3 columns</p>\n",
       "</div>"
      ],
      "text/plain": [
       "columns                         owner                       owner_1  \\\n",
       "29             lin, che-hao krude 林哲豪        Lin, Che-Hao Krude 林哲豪   \n",
       "115            lin, che-hao krude 林哲豪        Lin, Che-Hao Krude 林哲豪   \n",
       "125      consejo salvadoreño del café  Consejo Salvadoreño del Café   \n",
       "128                      rodrigo soto                  Rodrigo Soto   \n",
       "129         juan luis alvarado romero     Juan Luis Alvarado Romero   \n",
       "...                               ...                           ...   \n",
       "1235           lin, che-hao krude 林哲豪        Lin, Che-Hao Krude 林哲豪   \n",
       "1253                  ipanema coffees               Ipanema Coffees   \n",
       "1308       exportadora atlantic, s.a.    Exportadora Atlantic, S.A.   \n",
       "1319                   nishant gurjer                Nishant Gurjer   \n",
       "1322                   nishant gurjer                Nishant Gurjer   \n",
       "\n",
       "columns                        producer  \n",
       "29                   FANG,ZHENG-LUN 方政倫  \n",
       "115                  Wang Chao Yung 王超永  \n",
       "125                   J.J. Borja Nathan  \n",
       "128                             Johanna  \n",
       "129                           JUAN BOCK  \n",
       "...                                 ...  \n",
       "1235                林俊吉( Lin, Chun-Chi)  \n",
       "1253               Ipanema Agricola S.A  \n",
       "1308                    Teófilo Narváez  \n",
       "1319     Sethuraman Estate Kaapi Royale  \n",
       "1322     Sethuraman Estate Kaapi Royale  \n",
       "\n",
       "[132 rows x 3 columns]"
      ]
     },
     "execution_count": 23,
     "metadata": {},
     "output_type": "execute_result"
    }
   ],
   "source": [
    "coffee_data[['owner', 'owner_1', 'producer']]"
   ]
  },
  {
   "cell_type": "markdown",
   "id": "30c53923-1b72-4500-af0a-47fdca9f57e9",
   "metadata": {},
   "source": [
    "### Problem 8. Coffee color by country and continent (1 point)\n",
    "Create a table which shows how many coffees of each color are there in every country. Leave the missing values as they are.\n",
    "\n",
    "**Note:** If you ask me, countries should be in rows, I prefer long tables much better than wide ones.\n",
    "\n",
    "Now do the same for continents. You know what continent each country is located in."
   ]
  },
  {
   "cell_type": "code",
   "execution_count": 39,
   "id": "72cbe6a9-ca71-4826-806d-562bc30b40d2",
   "metadata": {},
   "outputs": [
    {
     "data": {
      "text/plain": [
       "[[country_of_origin             color       \n",
       "  Brazil                        Green           20\n",
       "                                Bluish-Green     6\n",
       "  China                         Green            1\n",
       "  Costa Rica                    Blue-Green       4\n",
       "                                Bluish-Green     3\n",
       "                                Green            1\n",
       "  El Salvador                   Green            5\n",
       "                                Bluish-Green     1\n",
       "                                Blue-Green       1\n",
       "  Guatemala                     Green           44\n",
       "                                Bluish-Green     1\n",
       "  Honduras                      Green           13\n",
       "                                Blue-Green       2\n",
       "                                Bluish-Green     2\n",
       "  India                         Green            2\n",
       "  Indonesia                     Blue-Green       1\n",
       "                                Green            1\n",
       "  Mexico                        Green            1\n",
       "  Nicaragua                     Green            5\n",
       "  Taiwan                        Green            9\n",
       "                                Blue-Green       2\n",
       "                                Bluish-Green     2\n",
       "  Tanzania, United Republic Of  Green            1\n",
       "  Uganda                        Green            4\n",
       "  Name: count, dtype: int64]]"
      ]
     },
     "execution_count": 39,
     "metadata": {},
     "output_type": "execute_result"
    }
   ],
   "source": [
    "coffee_data.groupby('country_of_origin').color.value_counts()"
   ]
  },
  {
   "cell_type": "markdown",
   "id": "27095ced-7179-4ee4-94d3-7d94450b4120",
   "metadata": {},
   "source": [
    "### Problem 9. Ratings (1 point)\n",
    "The columns `Aroma`, `Flavor`, etc., up to `Moisture` represent subjective ratings. Explore them. Show the means and range; draw histograms and / or boxplots as needed. You can even try correlations if you want. What's up with all those ratings?"
   ]
  },
  {
   "cell_type": "code",
   "execution_count": 44,
   "id": "d08ee355-dcbb-4657-a814-cdcfbd455c42",
   "metadata": {},
   "outputs": [
    {
     "data": {
      "text/html": [
       "<div>\n",
       "<style scoped>\n",
       "    .dataframe tbody tr th:only-of-type {\n",
       "        vertical-align: middle;\n",
       "    }\n",
       "\n",
       "    .dataframe tbody tr th {\n",
       "        vertical-align: top;\n",
       "    }\n",
       "\n",
       "    .dataframe thead th {\n",
       "        text-align: right;\n",
       "    }\n",
       "</style>\n",
       "<table border=\"1\" class=\"dataframe\">\n",
       "  <thead>\n",
       "    <tr style=\"text-align: right;\">\n",
       "      <th></th>\n",
       "      <th>count</th>\n",
       "      <th>mean</th>\n",
       "      <th>std</th>\n",
       "      <th>min</th>\n",
       "      <th>25%</th>\n",
       "      <th>50%</th>\n",
       "      <th>75%</th>\n",
       "      <th>max</th>\n",
       "    </tr>\n",
       "    <tr>\n",
       "      <th>columns</th>\n",
       "      <th></th>\n",
       "      <th></th>\n",
       "      <th></th>\n",
       "      <th></th>\n",
       "      <th></th>\n",
       "      <th></th>\n",
       "      <th></th>\n",
       "      <th></th>\n",
       "    </tr>\n",
       "  </thead>\n",
       "  <tbody>\n",
       "    <tr>\n",
       "      <th>aroma</th>\n",
       "      <td>132.0</td>\n",
       "      <td>7.568409</td>\n",
       "      <td>0.168146</td>\n",
       "      <td>7.08</td>\n",
       "      <td>7.50</td>\n",
       "      <td>7.58</td>\n",
       "      <td>7.67</td>\n",
       "      <td>8.08</td>\n",
       "    </tr>\n",
       "    <tr>\n",
       "      <th>flavor</th>\n",
       "      <td>132.0</td>\n",
       "      <td>7.555303</td>\n",
       "      <td>0.217948</td>\n",
       "      <td>6.58</td>\n",
       "      <td>7.50</td>\n",
       "      <td>7.58</td>\n",
       "      <td>7.69</td>\n",
       "      <td>8.00</td>\n",
       "    </tr>\n",
       "    <tr>\n",
       "      <th>aftertaste</th>\n",
       "      <td>132.0</td>\n",
       "      <td>7.404394</td>\n",
       "      <td>0.242211</td>\n",
       "      <td>6.33</td>\n",
       "      <td>7.25</td>\n",
       "      <td>7.42</td>\n",
       "      <td>7.58</td>\n",
       "      <td>8.00</td>\n",
       "    </tr>\n",
       "    <tr>\n",
       "      <th>acidity</th>\n",
       "      <td>132.0</td>\n",
       "      <td>7.581136</td>\n",
       "      <td>0.260697</td>\n",
       "      <td>6.25</td>\n",
       "      <td>7.50</td>\n",
       "      <td>7.58</td>\n",
       "      <td>7.75</td>\n",
       "      <td>8.25</td>\n",
       "    </tr>\n",
       "    <tr>\n",
       "      <th>body</th>\n",
       "      <td>132.0</td>\n",
       "      <td>7.537273</td>\n",
       "      <td>0.226941</td>\n",
       "      <td>6.42</td>\n",
       "      <td>7.42</td>\n",
       "      <td>7.50</td>\n",
       "      <td>7.67</td>\n",
       "      <td>8.00</td>\n",
       "    </tr>\n",
       "    <tr>\n",
       "      <th>balance</th>\n",
       "      <td>132.0</td>\n",
       "      <td>7.505076</td>\n",
       "      <td>0.253863</td>\n",
       "      <td>6.08</td>\n",
       "      <td>7.42</td>\n",
       "      <td>7.50</td>\n",
       "      <td>7.67</td>\n",
       "      <td>8.17</td>\n",
       "    </tr>\n",
       "    <tr>\n",
       "      <th>uniformity</th>\n",
       "      <td>132.0</td>\n",
       "      <td>9.863485</td>\n",
       "      <td>0.525726</td>\n",
       "      <td>6.00</td>\n",
       "      <td>10.00</td>\n",
       "      <td>10.00</td>\n",
       "      <td>10.00</td>\n",
       "      <td>10.00</td>\n",
       "    </tr>\n",
       "    <tr>\n",
       "      <th>clean_cup</th>\n",
       "      <td>132.0</td>\n",
       "      <td>9.924167</td>\n",
       "      <td>0.417237</td>\n",
       "      <td>6.00</td>\n",
       "      <td>10.00</td>\n",
       "      <td>10.00</td>\n",
       "      <td>10.00</td>\n",
       "      <td>10.00</td>\n",
       "    </tr>\n",
       "    <tr>\n",
       "      <th>sweetness</th>\n",
       "      <td>132.0</td>\n",
       "      <td>9.896364</td>\n",
       "      <td>0.465885</td>\n",
       "      <td>6.00</td>\n",
       "      <td>10.00</td>\n",
       "      <td>10.00</td>\n",
       "      <td>10.00</td>\n",
       "      <td>10.00</td>\n",
       "    </tr>\n",
       "    <tr>\n",
       "      <th>cupper_points</th>\n",
       "      <td>132.0</td>\n",
       "      <td>7.498485</td>\n",
       "      <td>0.405407</td>\n",
       "      <td>5.17</td>\n",
       "      <td>7.33</td>\n",
       "      <td>7.50</td>\n",
       "      <td>7.69</td>\n",
       "      <td>8.50</td>\n",
       "    </tr>\n",
       "    <tr>\n",
       "      <th>total_cup_points</th>\n",
       "      <td>132.0</td>\n",
       "      <td>82.335152</td>\n",
       "      <td>2.263464</td>\n",
       "      <td>63.08</td>\n",
       "      <td>81.73</td>\n",
       "      <td>82.75</td>\n",
       "      <td>83.58</td>\n",
       "      <td>86.58</td>\n",
       "    </tr>\n",
       "    <tr>\n",
       "      <th>moisture</th>\n",
       "      <td>132.0</td>\n",
       "      <td>0.090379</td>\n",
       "      <td>0.039081</td>\n",
       "      <td>0.00</td>\n",
       "      <td>0.10</td>\n",
       "      <td>0.10</td>\n",
       "      <td>0.11</td>\n",
       "      <td>0.13</td>\n",
       "    </tr>\n",
       "  </tbody>\n",
       "</table>\n",
       "</div>"
      ],
      "text/plain": [
       "                  count       mean       std    min    25%    50%    75%  \\\n",
       "columns                                                                    \n",
       "aroma             132.0   7.568409  0.168146   7.08   7.50   7.58   7.67   \n",
       "flavor            132.0   7.555303  0.217948   6.58   7.50   7.58   7.69   \n",
       "aftertaste        132.0   7.404394  0.242211   6.33   7.25   7.42   7.58   \n",
       "acidity           132.0   7.581136  0.260697   6.25   7.50   7.58   7.75   \n",
       "body              132.0   7.537273  0.226941   6.42   7.42   7.50   7.67   \n",
       "balance           132.0   7.505076  0.253863   6.08   7.42   7.50   7.67   \n",
       "uniformity        132.0   9.863485  0.525726   6.00  10.00  10.00  10.00   \n",
       "clean_cup         132.0   9.924167  0.417237   6.00  10.00  10.00  10.00   \n",
       "sweetness         132.0   9.896364  0.465885   6.00  10.00  10.00  10.00   \n",
       "cupper_points     132.0   7.498485  0.405407   5.17   7.33   7.50   7.69   \n",
       "total_cup_points  132.0  82.335152  2.263464  63.08  81.73  82.75  83.58   \n",
       "moisture          132.0   0.090379  0.039081   0.00   0.10   0.10   0.11   \n",
       "\n",
       "                    max  \n",
       "columns                  \n",
       "aroma              8.08  \n",
       "flavor             8.00  \n",
       "aftertaste         8.00  \n",
       "acidity            8.25  \n",
       "body               8.00  \n",
       "balance            8.17  \n",
       "uniformity        10.00  \n",
       "clean_cup         10.00  \n",
       "sweetness         10.00  \n",
       "cupper_points      8.50  \n",
       "total_cup_points  86.58  \n",
       "moisture           0.13  "
      ]
     },
     "execution_count": 44,
     "metadata": {},
     "output_type": "execute_result"
    }
   ],
   "source": [
    "coffee_data[['aroma', 'flavor', 'aftertaste', 'acidity', 'body',\n",
    "       'balance', 'uniformity', 'clean_cup', 'sweetness', 'cupper_points',\n",
    "       'total_cup_points', 'moisture']].describe().T"
   ]
  },
  {
   "cell_type": "code",
   "execution_count": 46,
   "id": "3cddceb3",
   "metadata": {},
   "outputs": [
    {
     "data": {
      "text/plain": [
       "(array([ 4.,  3.,  5., 16., 32., 50., 11.,  5.,  4.,  2.]),\n",
       " array([7.08, 7.18, 7.28, 7.38, 7.48, 7.58, 7.68, 7.78, 7.88, 7.98, 8.08]),\n",
       " <BarContainer object of 10 artists>)"
      ]
     },
     "execution_count": 46,
     "metadata": {},
     "output_type": "execute_result"
    },
    {
     "data": {
      "image/png": "[encoded data removed]",
      "text/plain": [
       "<Figure size 640x480 with 1 Axes>"
      ]
     },
     "metadata": {},
     "output_type": "display_data"
    }
   ],
   "source": [
    "plt.hist(coffee_data['aroma'], bins=10)"
   ]
  },
  {
   "cell_type": "markdown",
   "id": "92054218-978d-48c6-b7aa-36226837354c",
   "metadata": {},
   "source": [
    "### Problem 10. High-level errors (1 point)\n",
    "Check the countries against region names, altitudes, and companies. Are there any discrepancies (e.g. human errors, like a region not matching the country)? Take a look at the (cleaned) altitudes; there has been a lot of preprocessing done to them. Was it done correctly?"
   ]
  },
  {
   "cell_type": "code",
   "execution_count": 48,
   "id": "a971e5dd-4bb1-4ad6-bcbc-3cceab758f5d",
   "metadata": {},
   "outputs": [
    {
     "data": {
      "text/plain": [
       "Index(['unnamed: 0', 'species', 'owner', 'country_of_origin', 'farm_name',\n",
       "       'lot_number', 'mill', 'ico_number', 'company', 'altitude', 'region',\n",
       "       'producer', 'number_of_bags', 'bag_weight', 'in_country_partner',\n",
       "       'harvest_year', 'grading_date', 'owner_1', 'variety',\n",
       "       'processing_method', 'aroma', 'flavor', 'aftertaste', 'acidity', 'body',\n",
       "       'balance', 'uniformity', 'clean_cup', 'sweetness', 'cupper_points',\n",
       "       'total_cup_points', 'moisture', 'category_one_defects', 'quakers',\n",
       "       'color', 'category_two_defects', 'expiration', 'certification_body',\n",
       "       'certification_address', 'certification_contact', 'unit_of_measurement',\n",
       "       'altitude_low_meters', 'altitude_high_meters', 'altitude_mean_meters'],\n",
       "      dtype='object', name='columns')"
      ]
     },
     "execution_count": 48,
     "metadata": {},
     "output_type": "execute_result"
    }
   ],
   "source": [
    "coffee_data.columns"
   ]
  },
  {
   "cell_type": "code",
   "execution_count": 50,
   "id": "5b143937",
   "metadata": {},
   "outputs": [
    {
     "data": {
      "text/html": [
       "<div>\n",
       "<style scoped>\n",
       "    .dataframe tbody tr th:only-of-type {\n",
       "        vertical-align: middle;\n",
       "    }\n",
       "\n",
       "    .dataframe tbody tr th {\n",
       "        vertical-align: top;\n",
       "    }\n",
       "\n",
       "    .dataframe thead th {\n",
       "        text-align: right;\n",
       "    }\n",
       "</style>\n",
       "<table border=\"1\" class=\"dataframe\">\n",
       "  <thead>\n",
       "    <tr style=\"text-align: right;\">\n",
       "      <th>columns</th>\n",
       "      <th>country_of_origin</th>\n",
       "      <th>region</th>\n",
       "      <th>altitude</th>\n",
       "      <th>company</th>\n",
       "    </tr>\n",
       "  </thead>\n",
       "  <tbody>\n",
       "    <tr>\n",
       "      <th>29</th>\n",
       "      <td>Taiwan</td>\n",
       "      <td>leye, alishan township, chiayi county</td>\n",
       "      <td>1200</td>\n",
       "      <td>taiwan coffee laboratory</td>\n",
       "    </tr>\n",
       "    <tr>\n",
       "      <th>115</th>\n",
       "      <td>Taiwan</td>\n",
       "      <td>dongshan dist., tainan city 臺南市東山區</td>\n",
       "      <td>350</td>\n",
       "      <td>taiwan coffee laboratory</td>\n",
       "    </tr>\n",
       "    <tr>\n",
       "      <th>125</th>\n",
       "      <td>El Salvador</td>\n",
       "      <td>apaneca</td>\n",
       "      <td>1350</td>\n",
       "      <td>cafetalera del pacifico</td>\n",
       "    </tr>\n",
       "    <tr>\n",
       "      <th>128</th>\n",
       "      <td>Costa Rica</td>\n",
       "      <td>tarrazu</td>\n",
       "      <td>1150</td>\n",
       "      <td>panamerican coffee trading</td>\n",
       "    </tr>\n",
       "    <tr>\n",
       "      <th>129</th>\n",
       "      <td>Guatemala</td>\n",
       "      <td>acatenango</td>\n",
       "      <td>1600</td>\n",
       "      <td>waelti schoenfeld exportadores de cafe, s.a.</td>\n",
       "    </tr>\n",
       "    <tr>\n",
       "      <th>...</th>\n",
       "      <td>...</td>\n",
       "      <td>...</td>\n",
       "      <td>...</td>\n",
       "      <td>...</td>\n",
       "    </tr>\n",
       "    <tr>\n",
       "      <th>1235</th>\n",
       "      <td>Taiwan</td>\n",
       "      <td>台南市東山區( dongshan dist., tainan city)</td>\n",
       "      <td>650</td>\n",
       "      <td>taiwan coffee laboratory</td>\n",
       "    </tr>\n",
       "    <tr>\n",
       "      <th>1253</th>\n",
       "      <td>Brazil</td>\n",
       "      <td>south of minas</td>\n",
       "      <td>890</td>\n",
       "      <td>ipanema coffees</td>\n",
       "    </tr>\n",
       "    <tr>\n",
       "      <th>1308</th>\n",
       "      <td>Nicaragua</td>\n",
       "      <td>jalapa</td>\n",
       "      <td>1100</td>\n",
       "      <td>exportadora atlantic s.a</td>\n",
       "    </tr>\n",
       "    <tr>\n",
       "      <th>1319</th>\n",
       "      <td>India</td>\n",
       "      <td>chikmagalur karnataka</td>\n",
       "      <td>1000</td>\n",
       "      <td>kaapi royale</td>\n",
       "    </tr>\n",
       "    <tr>\n",
       "      <th>1322</th>\n",
       "      <td>India</td>\n",
       "      <td>chikmagalur karnataka</td>\n",
       "      <td>1000</td>\n",
       "      <td>kaapi royale</td>\n",
       "    </tr>\n",
       "  </tbody>\n",
       "</table>\n",
       "<p>132 rows × 4 columns</p>\n",
       "</div>"
      ],
      "text/plain": [
       "columns country_of_origin                                 region altitude  \\\n",
       "29                 Taiwan  leye, alishan township, chiayi county     1200   \n",
       "115                Taiwan     dongshan dist., tainan city 臺南市東山區      350   \n",
       "125           El Salvador                                apaneca     1350   \n",
       "128            Costa Rica                                tarrazu     1150   \n",
       "129             Guatemala                             acatenango     1600   \n",
       "...                   ...                                    ...      ...   \n",
       "1235               Taiwan   台南市東山區( dongshan dist., tainan city)      650   \n",
       "1253               Brazil                         south of minas      890   \n",
       "1308            Nicaragua                                 jalapa     1100   \n",
       "1319                India                  chikmagalur karnataka     1000   \n",
       "1322                India                  chikmagalur karnataka     1000   \n",
       "\n",
       "columns                                       company  \n",
       "29                           taiwan coffee laboratory  \n",
       "115                          taiwan coffee laboratory  \n",
       "125                           cafetalera del pacifico  \n",
       "128                        panamerican coffee trading  \n",
       "129      waelti schoenfeld exportadores de cafe, s.a.  \n",
       "...                                               ...  \n",
       "1235                         taiwan coffee laboratory  \n",
       "1253                                  ipanema coffees  \n",
       "1308                         exportadora atlantic s.a  \n",
       "1319                                     kaapi royale  \n",
       "1322                                     kaapi royale  \n",
       "\n",
       "[132 rows x 4 columns]"
      ]
     },
     "execution_count": 50,
     "metadata": {},
     "output_type": "execute_result"
    }
   ],
   "source": [
    "coffee_data[['country_of_origin', 'region', 'altitude', 'company']]"
   ]
  },
  {
   "cell_type": "markdown",
   "id": "3c3b5118-9f8e-45c2-a200-1be89fa4b3bf",
   "metadata": {},
   "source": [
    "### * Problem 11. Clean and explore at will\n",
    "The dataset claimed to be clean, but we were able to discover a lot of things to fix and do better.\n",
    "\n",
    "Play around with the data as much as you wish, and if you find variables to tidy up and clean - by all means, do that!"
   ]
  },
  {
   "cell_type": "code",
   "execution_count": null,
   "id": "928732cf-7ef4-471a-9818-139dd519eb45",
   "metadata": {},
   "outputs": [],
   "source": []
  }
 ],
 "metadata": {
  "kernelspec": {
   "display_name": "Python 3 (ipykernel)",
   "language": "python",
   "name": "python3"
  },
  "language_info": {
   "codemirror_mode": {
    "name": "ipython",
    "version": 3
   },
   "file_extension": ".py",
   "mimetype": "text/x-python",
   "name": "python",
   "nbconvert_exporter": "python",
   "pygments_lexer": "ipython3",
   "version": "3.11.7"
  }
 },
 "nbformat": 4,
 "nbformat_minor": 5
}
