{
 "cells": [
  {
   "cell_type": "code",
   "execution_count": 64,
   "id": "078d90d4-aec6-40fe-997f-ce63c962d936",
   "metadata": {},
   "outputs": [],
   "source": [
    "# Write your imports here\n",
    "import pandas as pd\n",
    "import numpy as np\n",
    "import matplotlib.pyplot as plt"
   ]
  },
  {
   "cell_type": "markdown",
   "id": "02aa71be-5d01-4efc-85fa-a019fe92a39a",
   "metadata": {},
   "source": [
    "# Data Tidying and Cleaning Lab\n",
    "## Reading, tidying and cleaning data. Preparing data for exploration, mining, analysis and learning"
   ]
  },
  {
   "cell_type": "markdown",
   "id": "259927d3-4ad5-471e-b34b-114f07127a39",
   "metadata": {},
   "source": [
    "In this lab, you'll be working with the Coffee Quality Index dataset, located [here](https://www.kaggle.com/datasets/volpatto/coffee-quality-database-from-cqi). For convenience (and to save trouble in case you can't download files, or someone uploads a newer version), I've provided the dataset in the `data/` folder. The metadata (description) is at the Kaggle link. For this lab, you'll only need `merged_data_cleaned.csv`, as it is the concatenation of the other two datasets.\n",
    "\n",
    "In this (and the following labs), you'll get several questions and problems. Do your analysis, describe it, use any tools and plots you wish, and answer. You can create any amount of cells you'd like.\n",
    "\n",
    "Sometimes, the answers will not be unique, and they will depend on how you decide to approach and solve the problem. This is usual - we're doing science after all!\n",
    "\n",
    "It's a good idea to save your clean dataset after all the work you've done to it."
   ]
  },
  {
   "cell_type": "markdown",
   "id": "4450ac8e-523c-46f8-a410-9ad5af4cfc14",
   "metadata": {},
   "source": [
    "### Problem 1. Read the dataset (1 point)\n",
    "This should be self-explanatory. The first column is the index."
   ]
  },
  {
   "cell_type": "code",
   "execution_count": 65,
   "id": "df50bd71-ea2a-4db9-814d-c49f782ca101",
   "metadata": {},
   "outputs": [],
   "source": [
    "coffee_data = pd.read_csv('data/merged_data_cleaned.csv')"
   ]
  },
  {
   "cell_type": "code",
   "execution_count": 66,
   "id": "b9d415ed",
   "metadata": {},
   "outputs": [
    {
     "data": {
      "text/plain": [
       "0    April 3rd, 2016\n",
       "1    April 3rd, 2016\n",
       "Name: Expiration, dtype: object"
      ]
     },
     "execution_count": 66,
     "metadata": {},
     "output_type": "execute_result"
    }
   ],
   "source": [
    "coffee_data.head(2)['Expiration']"
   ]
  },
  {
   "cell_type": "markdown",
   "id": "b278e2a8-56b4-4b1a-ad71-e7b920321e37",
   "metadata": {},
   "source": [
    "### Problem 2. Observations and features (1 point)\n",
    "How many observations are there? How many features? Which features are numerical, and which are categorical?\n",
    "\n",
    "**Note:** Think about the _meaning_, not the data types. The dataset hasn't been thoroughly cleaned."
   ]
  },
  {
   "cell_type": "code",
   "execution_count": 67,
   "id": "e7d17c46-5475-4c33-9c35-b7cf56ac41c3",
   "metadata": {},
   "outputs": [
    {
     "data": {
      "text/plain": [
       "(1339, 44)"
      ]
     },
     "execution_count": 67,
     "metadata": {},
     "output_type": "execute_result"
    }
   ],
   "source": [
    "coffee_data.shape"
   ]
  },
  {
   "cell_type": "markdown",
   "id": "48b8de1f",
   "metadata": {},
   "source": [
    "44 features\n",
    "1339 observations"
   ]
  },
  {
   "cell_type": "code",
   "execution_count": 68,
   "id": "45f2a544",
   "metadata": {},
   "outputs": [
    {
     "data": {
      "text/plain": [
       "Index(['Unnamed: 0', 'Species', 'Owner', 'Country.of.Origin', 'Farm.Name',\n",
       "       'Lot.Number', 'Mill', 'ICO.Number', 'Company', 'Altitude', 'Region',\n",
       "       'Producer', 'Number.of.Bags', 'Bag.Weight', 'In.Country.Partner',\n",
       "       'Harvest.Year', 'Grading.Date', 'Owner.1', 'Variety',\n",
       "       'Processing.Method', 'Aroma', 'Flavor', 'Aftertaste', 'Acidity', 'Body',\n",
       "       'Balance', 'Uniformity', 'Clean.Cup', 'Sweetness', 'Cupper.Points',\n",
       "       'Total.Cup.Points', 'Moisture', 'Category.One.Defects', 'Quakers',\n",
       "       'Color', 'Category.Two.Defects', 'Expiration', 'Certification.Body',\n",
       "       'Certification.Address', 'Certification.Contact', 'unit_of_measurement',\n",
       "       'altitude_low_meters', 'altitude_high_meters', 'altitude_mean_meters'],\n",
       "      dtype='object')"
      ]
     },
     "execution_count": 68,
     "metadata": {},
     "output_type": "execute_result"
    }
   ],
   "source": [
    "coffee_data.columns"
   ]
  },
  {
   "cell_type": "code",
   "execution_count": 69,
   "id": "62f935d0",
   "metadata": {},
   "outputs": [
    {
     "data": {
      "text/plain": [
       "Unnamed: 0                 int64\n",
       "Species                   object\n",
       "Owner                     object\n",
       "Country.of.Origin         object\n",
       "Farm.Name                 object\n",
       "Lot.Number                object\n",
       "Mill                      object\n",
       "ICO.Number                object\n",
       "Company                   object\n",
       "Altitude                  object\n",
       "Region                    object\n",
       "Producer                  object\n",
       "Number.of.Bags             int64\n",
       "Bag.Weight                object\n",
       "In.Country.Partner        object\n",
       "Harvest.Year              object\n",
       "Grading.Date              object\n",
       "Owner.1                   object\n",
       "Variety                   object\n",
       "Processing.Method         object\n",
       "Aroma                    float64\n",
       "Flavor                   float64\n",
       "Aftertaste               float64\n",
       "Acidity                  float64\n",
       "Body                     float64\n",
       "Balance                  float64\n",
       "Uniformity               float64\n",
       "Clean.Cup                float64\n",
       "Sweetness                float64\n",
       "Cupper.Points            float64\n",
       "Total.Cup.Points         float64\n",
       "Moisture                 float64\n",
       "Category.One.Defects       int64\n",
       "Quakers                  float64\n",
       "Color                     object\n",
       "Category.Two.Defects       int64\n",
       "Expiration                object\n",
       "Certification.Body        object\n",
       "Certification.Address     object\n",
       "Certification.Contact     object\n",
       "unit_of_measurement       object\n",
       "altitude_low_meters      float64\n",
       "altitude_high_meters     float64\n",
       "altitude_mean_meters     float64\n",
       "dtype: object"
      ]
     },
     "execution_count": 69,
     "metadata": {},
     "output_type": "execute_result"
    }
   ],
   "source": [
    "coffee_data.dtypes"
   ]
  },
  {
   "cell_type": "markdown",
   "id": "94e47592",
   "metadata": {},
   "source": [
    "Categorical features: 'Species', 'Owner', 'Country.of.Origin', 'Farm.Name',\n",
    "       'Lot.Number', 'Mill', 'ICO.Number', 'Company', 'Altitude', 'Region',\n",
    "       'Producer', 'In.Country.Partner', 'Harvest.Year', 'Grading.Date', 'Owner.1', 'Variety',\n",
    "       'Processing.Method', 'Color', 'Expiration', 'Certification.Body',\n",
    "       'Certification.Address', 'Certification.Contact', 'unit_of_measurement',\n",
    "\n",
    "Numerical features: 'altitude_low_meters', 'altitude_high_meters', 'altitude_mean_meters', 'Aroma', 'Flavor',   'Aftertaste', 'Acidity', 'Body', 'Balance', 'Uniformity', 'Clean.Cup', 'Sweetness', 'Cupper.Points','Total.Cup.Points', 'Moisture', 'Category.One.Defects', 'Quakers', 'altitude_low_meters', 'altitude_high_meters', 'altitude_mean_meters'"
   ]
  },
  {
   "cell_type": "markdown",
   "id": "2b745e68-35eb-4acb-b39f-513137f0ee4b",
   "metadata": {},
   "source": [
    "### Problem 3. Column manipulation (1 point)\n",
    "Make the column names more Pythonic (which helps with the quality and... aesthetics). Convert column names to `snake_case`, i.e. `species`, `country_of_origin`, `ico_number`, etc. Try to not do it manually."
   ]
  },
  {
   "cell_type": "code",
   "execution_count": 70,
   "id": "301e9f3f-afd6-4a91-a32f-1974584694ca",
   "metadata": {},
   "outputs": [],
   "source": [
    "data = {'columns': ['Unnamed: 0', 'Species', 'Owner', 'Country.of.Origin', 'Farm.Name',\n",
    "       'Lot.Number', 'Mill', 'ICO.Number', 'Company', 'Altitude', 'Region',\n",
    "       'Producer', 'Number.of.Bags', 'Bag.Weight', 'In.Country.Partner',\n",
    "       'Harvest.Year', 'Grading.Date', 'Owner.1', 'Variety',\n",
    "       'Processing.Method', 'Aroma', 'Flavor', 'Aftertaste', 'Acidity', 'Body',\n",
    "       'Balance', 'Uniformity', 'Clean.Cup', 'Sweetness', 'Cupper.Points',\n",
    "       'Total.Cup.Points', 'Moisture', 'Category.One.Defects', 'Quakers',\n",
    "       'Color', 'Category.Two.Defects', 'Expiration', 'Certification.Body',\n",
    "       'Certification.Address', 'Certification.Contact', 'unit_of_measurement',\n",
    "       'altitude_low_meters', 'altitude_high_meters', 'altitude_mean_meters']}\n",
    "\n",
    "df = pd.DataFrame(data)"
   ]
  },
  {
   "cell_type": "code",
   "execution_count": 71,
   "id": "a2b34770",
   "metadata": {},
   "outputs": [],
   "source": [
    "df['columns'] = df['columns'].str.lower()"
   ]
  },
  {
   "cell_type": "code",
   "execution_count": 72,
   "id": "0c3f2a0e",
   "metadata": {},
   "outputs": [],
   "source": [
    "df['columns'] = df['columns'].str.replace('.', '_')"
   ]
  },
  {
   "cell_type": "code",
   "execution_count": 73,
   "id": "b350f3c4",
   "metadata": {},
   "outputs": [
    {
     "data": {
      "text/plain": [
       "Index(['Unnamed: 0', 'Species', 'Owner', 'Country.of.Origin', 'Farm.Name',\n",
       "       'Lot.Number', 'Mill', 'ICO.Number', 'Company', 'Altitude', 'Region',\n",
       "       'Producer', 'Number.of.Bags', 'Bag.Weight', 'In.Country.Partner',\n",
       "       'Harvest.Year', 'Grading.Date', 'Owner.1', 'Variety',\n",
       "       'Processing.Method', 'Aroma', 'Flavor', 'Aftertaste', 'Acidity', 'Body',\n",
       "       'Balance', 'Uniformity', 'Clean.Cup', 'Sweetness', 'Cupper.Points',\n",
       "       'Total.Cup.Points', 'Moisture', 'Category.One.Defects', 'Quakers',\n",
       "       'Color', 'Category.Two.Defects', 'Expiration', 'Certification.Body',\n",
       "       'Certification.Address', 'Certification.Contact', 'unit_of_measurement',\n",
       "       'altitude_low_meters', 'altitude_high_meters', 'altitude_mean_meters'],\n",
       "      dtype='object')"
      ]
     },
     "execution_count": 73,
     "metadata": {},
     "output_type": "execute_result"
    }
   ],
   "source": [
    "coffee_data.columns"
   ]
  },
  {
   "cell_type": "code",
   "execution_count": 74,
   "id": "2bbf8e7b",
   "metadata": {},
   "outputs": [],
   "source": [
    "coffee_data.columns = df['columns']"
   ]
  },
  {
   "cell_type": "code",
   "execution_count": 75,
   "id": "5d9f0cbe",
   "metadata": {},
   "outputs": [
    {
     "data": {
      "text/plain": [
       "Index(['unnamed: 0', 'species', 'owner', 'country_of_origin', 'farm_name',\n",
       "       'lot_number', 'mill', 'ico_number', 'company', 'altitude', 'region',\n",
       "       'producer', 'number_of_bags', 'bag_weight', 'in_country_partner',\n",
       "       'harvest_year', 'grading_date', 'owner_1', 'variety',\n",
       "       'processing_method', 'aroma', 'flavor', 'aftertaste', 'acidity', 'body',\n",
       "       'balance', 'uniformity', 'clean_cup', 'sweetness', 'cupper_points',\n",
       "       'total_cup_points', 'moisture', 'category_one_defects', 'quakers',\n",
       "       'color', 'category_two_defects', 'expiration', 'certification_body',\n",
       "       'certification_address', 'certification_contact', 'unit_of_measurement',\n",
       "       'altitude_low_meters', 'altitude_high_meters', 'altitude_mean_meters'],\n",
       "      dtype='object', name='columns')"
      ]
     },
     "execution_count": 75,
     "metadata": {},
     "output_type": "execute_result"
    }
   ],
   "source": [
    "coffee_data.columns"
   ]
  },
  {
   "cell_type": "markdown",
   "id": "8c53c4c6-6eb9-4c92-bd39-89286fe4c86e",
   "metadata": {},
   "source": [
    "### Problem 4. Bag weight (1 point)\n",
    "What's up with the bag weights? Make all necessary changes to the column values. Don't forget to document your methods and assumptions."
   ]
  },
  {
   "cell_type": "code",
   "execution_count": 76,
   "id": "8e97f3d0-1223-49a7-99a9-51a65e4ff4e0",
   "metadata": {},
   "outputs": [],
   "source": [
    "# we extract the numeric type of the value using extract. Same can be achieved using split by ' '\n",
    "coffee_data.bag_weight = coffee_data.bag_weight.str.extract('(\\d+)').astype(int)"
   ]
  },
  {
   "cell_type": "code",
   "execution_count": 77,
   "id": "8e8cd5da",
   "metadata": {},
   "outputs": [
    {
     "data": {
      "text/plain": [
       "columns\n",
       "unnamed: 0                 int64\n",
       "species                   object\n",
       "owner                     object\n",
       "country_of_origin         object\n",
       "farm_name                 object\n",
       "lot_number                object\n",
       "mill                      object\n",
       "ico_number                object\n",
       "company                   object\n",
       "altitude                  object\n",
       "region                    object\n",
       "producer                  object\n",
       "number_of_bags             int64\n",
       "bag_weight                 int32\n",
       "in_country_partner        object\n",
       "harvest_year              object\n",
       "grading_date              object\n",
       "owner_1                   object\n",
       "variety                   object\n",
       "processing_method         object\n",
       "aroma                    float64\n",
       "flavor                   float64\n",
       "aftertaste               float64\n",
       "acidity                  float64\n",
       "body                     float64\n",
       "balance                  float64\n",
       "uniformity               float64\n",
       "clean_cup                float64\n",
       "sweetness                float64\n",
       "cupper_points            float64\n",
       "total_cup_points         float64\n",
       "moisture                 float64\n",
       "category_one_defects       int64\n",
       "quakers                  float64\n",
       "color                     object\n",
       "category_two_defects       int64\n",
       "expiration                object\n",
       "certification_body        object\n",
       "certification_address     object\n",
       "certification_contact     object\n",
       "unit_of_measurement       object\n",
       "altitude_low_meters      float64\n",
       "altitude_high_meters     float64\n",
       "altitude_mean_meters     float64\n",
       "dtype: object"
      ]
     },
     "execution_count": 77,
     "metadata": {},
     "output_type": "execute_result"
    }
   ],
   "source": [
    "coffee_data.dtypes"
   ]
  },
  {
   "cell_type": "markdown",
   "id": "2ff1f817-8e5e-4185-a320-dde7ed2cada1",
   "metadata": {},
   "source": [
    "### Problem 5. Dates (1 point)\n",
    "This should remind you of problem 4 but it's slightly nastier. Fix the harvest years, document the process.\n",
    "\n",
    "While you're here, fix the expiration dates, and grading dates. Unlike the other column, these should be dates (`pd.to_datetime()` is your friend)."
   ]
  },
  {
   "cell_type": "code",
   "execution_count": 81,
   "id": "814dc5f9-9572-44f0-bff6-8efeb084f93d",
   "metadata": {},
   "outputs": [],
   "source": [
    "coffee_data = coffee_data.dropna()"
   ]
  },
  {
   "cell_type": "code",
   "execution_count": 84,
   "id": "097f740e",
   "metadata": {},
   "outputs": [
    {
     "data": {
      "text/plain": [
       "<bound method Series.unique of 29             2015\n",
       "115            2016\n",
       "125            2016\n",
       "128            2015\n",
       "129            2015\n",
       "           ...     \n",
       "1235           2016\n",
       "1253    2017 / 2018\n",
       "1308           2016\n",
       "1319           2015\n",
       "1322           2015\n",
       "Name: harvest_year, Length: 132, dtype: object>"
      ]
     },
     "execution_count": 84,
     "metadata": {},
     "output_type": "execute_result"
    }
   ],
   "source": [
    "coffee_data.harvest_year.unique"
   ]
  },
  {
   "cell_type": "code",
   "execution_count": 87,
   "id": "bd11c7a8",
   "metadata": {},
   "outputs": [],
   "source": [
    "coffee_data.harvest_year = coffee_data.harvest_year.str.slice(0,4).astype(int)"
   ]
  },
  {
   "cell_type": "code",
   "execution_count": null,
   "id": "4a21fbd1",
   "metadata": {},
   "outputs": [],
   "source": []
  },
  {
   "cell_type": "markdown",
   "id": "0dff33b4-c94d-43b3-bab3-97eabb862a37",
   "metadata": {},
   "source": [
    "### Problem 6. Countries (1 point)\n",
    "How many coffees are there with unknown countries of origin? What can you do about them?"
   ]
  },
  {
   "cell_type": "code",
   "execution_count": null,
   "id": "0851c1a8-0420-4dba-ac27-487bae4318be",
   "metadata": {},
   "outputs": [],
   "source": []
  },
  {
   "cell_type": "markdown",
   "id": "d0aa6f30-4b93-4f23-95e0-2cafb7152c6c",
   "metadata": {},
   "source": [
    "### Problem 7. Owners (1 point)\n",
    "There are two suspicious columns, named `Owner`, and `Owner.1` (they're likely called something different after you solved problem 3). Do something about them. Is there any link to `Producer`?"
   ]
  },
  {
   "cell_type": "code",
   "execution_count": null,
   "id": "39bc1689-33f6-4446-bfc3-c4b4e69eccf6",
   "metadata": {},
   "outputs": [],
   "source": []
  },
  {
   "cell_type": "markdown",
   "id": "30c53923-1b72-4500-af0a-47fdca9f57e9",
   "metadata": {},
   "source": [
    "### Problem 8. Coffee color by country and continent (1 point)\n",
    "Create a table which shows how many coffees of each color are there in every country. Leave the missing values as they are.\n",
    "\n",
    "**Note:** If you ask me, countries should be in rows, I prefer long tables much better than wide ones.\n",
    "\n",
    "Now do the same for continents. You know what continent each country is located in."
   ]
  },
  {
   "cell_type": "code",
   "execution_count": null,
   "id": "72cbe6a9-ca71-4826-806d-562bc30b40d2",
   "metadata": {},
   "outputs": [],
   "source": []
  },
  {
   "cell_type": "markdown",
   "id": "27095ced-7179-4ee4-94d3-7d94450b4120",
   "metadata": {},
   "source": [
    "### Problem 9. Ratings (1 point)\n",
    "The columns `Aroma`, `Flavor`, etc., up to `Moisture` represent subjective ratings. Explore them. Show the means and range; draw histograms and / or boxplots as needed. You can even try correlations if you want. What's up with all those ratings?"
   ]
  },
  {
   "cell_type": "code",
   "execution_count": null,
   "id": "d08ee355-dcbb-4657-a814-cdcfbd455c42",
   "metadata": {},
   "outputs": [],
   "source": []
  },
  {
   "cell_type": "markdown",
   "id": "92054218-978d-48c6-b7aa-36226837354c",
   "metadata": {},
   "source": [
    "### Problem 10. High-level errors (1 point)\n",
    "Check the countries against region names, altitudes, and companies. Are there any discrepancies (e.g. human errors, like a region not matching the country)? Take a look at the (cleaned) altitudes; there has been a lot of preprocessing done to them. Was it done correctly?"
   ]
  },
  {
   "cell_type": "code",
   "execution_count": null,
   "id": "a971e5dd-4bb1-4ad6-bcbc-3cceab758f5d",
   "metadata": {},
   "outputs": [],
   "source": []
  },
  {
   "cell_type": "markdown",
   "id": "3c3b5118-9f8e-45c2-a200-1be89fa4b3bf",
   "metadata": {},
   "source": [
    "### * Problem 11. Clean and explore at will\n",
    "The dataset claimed to be clean, but we were able to discover a lot of things to fix and do better.\n",
    "\n",
    "Play around with the data as much as you wish, and if you find variables to tidy up and clean - by all means, do that!"
   ]
  },
  {
   "cell_type": "code",
   "execution_count": null,
   "id": "928732cf-7ef4-471a-9818-139dd519eb45",
   "metadata": {},
   "outputs": [],
   "source": []
  }
 ],
 "metadata": {
  "kernelspec": {
   "display_name": "Python 3 (ipykernel)",
   "language": "python",
   "name": "python3"
  },
  "language_info": {
   "codemirror_mode": {
    "name": "ipython",
    "version": 3
   },
   "file_extension": ".py",
   "mimetype": "text/x-python",
   "name": "python",
   "nbconvert_exporter": "python",
   "pygments_lexer": "ipython3",
   "version": "3.11.7"
  }
 },
 "nbformat": 4,
 "nbformat_minor": 5
}
